{
 "cells": [
  {
   "cell_type": "markdown",
   "id": "bc2389f7",
   "metadata": {},
   "source": [
    "# Movielens 영화 추천"
   ]
  },
  {
   "cell_type": "markdown",
   "id": "479927cb",
   "metadata": {},
   "source": [
    "오늘은 머신러닝 애플리케이션 중 가장 상업적인 성공을 거둔 것으로 평가받고 있는 추천 시스템(Recommender System) 에 대해 알아보려고 한다. 어느덧 추천 시스템은 우리 생활 깊숙이 들어와 있다. 유튜브, 넷플릭스 등 동영상 플랫폼이 기가 막히게 내가 좋아할 만한 콘텐츠를 찾아서 자동으로 플레이해 주고 있다. 아마존, 쿠팡 온라인 쇼핑 사이트에서도 내 취향에 맞는 상품 추천을 쉽게 접할 수 있다. 페이스북, 인스타그램 같은 SNS는 말할 것도 없고, 뉴스나 광고까지도 추천 시스템의 원리가 숨어들어 있다.\n",
    "\n",
    "이런 추천 시스템의 원리를 한 문장으로 줄인다면 \"나와 비슷한 다른 사용자들이 좋아하는 것과 비슷한 것을 내게 추천해 준다.\" 일 것이다. 하지만 어떤 사용자들이 나와 비슷한지를 어떻게 알 수 있을까? 또 어떤 상품이나 정보가 서로 유사한지는 어떻게 알 수 있는 걸까? 오늘의 과정을 통해 추천 시스템의 기본 원리를 파악해 보고 나만의 추천 시스템을 만들어 본다."
   ]
  },
  {
   "cell_type": "markdown",
   "id": "7e4ffb31",
   "metadata": {},
   "source": [
    "## 추천 시스템이란?"
   ]
  },
  {
   "cell_type": "markdown",
   "id": "d363dbdd",
   "metadata": {},
   "source": [
    "온라인 콘텐츠 서비스에서 데이터 분석과 AI 기술을 접목한 추천 시스템의 활용은 이제 선택이 아닌 필수가 된 것 같다. 우리가 흔히 사용하고 있는 음원 서비스를 예로 들어 보겠다.\n",
    "\n",
    "유튜브 뮤직, 스포티파이, 애플 뮤직, 멜론 등 여러 음원 서비스 중 추천 시스템을 통한 개인화 서비스가 없는 곳을 찾기가 힘들어졌다. 과거 음원 차트로 유명하던 멜론에서도 2020년의 업데이트에서 메인이었던 음원 차트를 홈화면에서 없애고 개인 맞춤 서비스를 전면에 배치했다.\n",
    "\n",
    "이러한 음원 서비스 제공자들은 수많은 유저들이 어떤 아티스트의 노래를 들었는지에 대한 광범위한 데이터를 축적하고 있다. 이러한 빅데이터가 정확한 추천의 원동력이 되고 있다는 것은 어렴풋이 짐작할 수 있을 것이다.\n",
    "\n",
    "그러나 그 추천의 원리가 어떤 것인지 좀 더 구체적으로 파악해 볼 필요가 있다. 그럼 아래 링크를 참고하자.\n",
    "\n",
    "[콘텐츠 추천 알고리즘의 진화][1]\n",
    "\n",
    "[1]:http://www.kocca.kr/insight/vol05/vol05_04.pdf"
   ]
  },
  {
   "cell_type": "markdown",
   "id": "a7567e5f",
   "metadata": {},
   "source": [
    "추천 시스템은 이처럼\n",
    "\n",
    "● 아이템은 매우 많고  \n",
    "● 유저의 취향은 다양할 때\n",
    "\n",
    "유저가 소비할 만한 아이템을 예측하는 모델이다.\n",
    "\n",
    "몇 가지 실제 사례를 보면,\n",
    "\n",
    "● 유튜브 : 동영상이 매일 엄청나게 많이 올라오고 유저의 취향(게임 선호, 뷰티 선호, 지식 선호, 뉴스 선호)이 다양하다.  \n",
    "● 페이스북 : 포스팅되는 글이 엄청 많고 유저가 관심 있는 페이지, 친구, 그룹은 전부 다르다.  \n",
    "● 아마존 : 카테고리를 한정해도 판매 품목이 엄청 많고 좋아하는 브랜드, 구매 기준이 다양하다.\n",
    "\n",
    "아티스트는 수없이 많고 새로운 아티스트가 계속 나오기 때문에, 유튜브 같은 추천 기반의 미디어 회사들은 꾸준히 아이템이 되는 아티스트 정보를 자동으로 수집하고, 사용자들이 아티스트를 선택한 정보를 업데이트하여 축적하고 있다. 이렇게 쌓인 방대한 데이터가 정확한 협업 필터링을 위한 기반이 된다."
   ]
  },
  {
   "cell_type": "markdown",
   "id": "60528b4e",
   "metadata": {},
   "source": [
    "오늘은 이렇게 쌓인 데이터 사례 중 하나를 활용하여 유저가 좋아하는 특정 영화와 유사한 다른 영화를 추천하는 추천 시스템을 만들어 볼 것이다."
   ]
  },
  {
   "cell_type": "markdown",
   "id": "4d28ecce",
   "metadata": {},
   "source": [
    "## Movielens 영화 추천 실습"
   ]
  },
  {
   "cell_type": "markdown",
   "id": "6a9998b0",
   "metadata": {},
   "source": [
    "### Cloud jupyter내 파일 생성"
   ]
  },
  {
   "cell_type": "code",
   "execution_count": 1,
   "id": "dc05a939",
   "metadata": {},
   "outputs": [],
   "source": [
    "# mkdir -p ~/aiffel/recommendata_iu/data/ml-1m\n",
    "# ln -s ~/data/ml-1m/* ~/aiffel/recommendata_iu/data/ml-1m"
   ]
  },
  {
   "cell_type": "markdown",
   "id": "7fa02bb0",
   "metadata": {},
   "source": [
    "Cloud Storage에 미리 업로드된 ml-1m폴더 내 파일을 심볼릭 링크로 개인 storage에 연결한다. Cloud shell에서 위 명령어를 입력한다."
   ]
  },
  {
   "cell_type": "markdown",
   "id": "7dc53b12",
   "metadata": {},
   "source": [
    "### 라이브러리 import하기"
   ]
  },
  {
   "cell_type": "code",
   "execution_count": 2,
   "id": "8260a8d9",
   "metadata": {},
   "outputs": [],
   "source": [
    "import pandas as pd\n",
    "import os"
   ]
  },
  {
   "cell_type": "markdown",
   "id": "608ef394",
   "metadata": {},
   "source": [
    "필요한 라이브러리를 불러들인다."
   ]
  },
  {
   "cell_type": "markdown",
   "id": "2e56359f",
   "metadata": {},
   "source": [
    "### 데이터 준비와 기본 전처리 "
   ]
  },
  {
   "cell_type": "markdown",
   "id": "1c85beac",
   "metadata": {},
   "source": [
    "우리가 활용할 데이터셋은 추천 시스템의 MNIST라고 부를만한 Movielens 데이터이다.\n",
    "\n",
    "Movielens 데이터는 rating.dat 안에 이미 인덱싱까지 완료된 사용자-영화-평점 데이터가 깔끔하게 정리되어 있다."
   ]
  },
  {
   "cell_type": "code",
   "execution_count": 3,
   "id": "7ce34743",
   "metadata": {},
   "outputs": [
    {
     "data": {
      "text/html": [
       "<div>\n",
       "<style scoped>\n",
       "    .dataframe tbody tr th:only-of-type {\n",
       "        vertical-align: middle;\n",
       "    }\n",
       "\n",
       "    .dataframe tbody tr th {\n",
       "        vertical-align: top;\n",
       "    }\n",
       "\n",
       "    .dataframe thead th {\n",
       "        text-align: right;\n",
       "    }\n",
       "</style>\n",
       "<table border=\"1\" class=\"dataframe\">\n",
       "  <thead>\n",
       "    <tr style=\"text-align: right;\">\n",
       "      <th></th>\n",
       "      <th>user_id</th>\n",
       "      <th>movie_id</th>\n",
       "      <th>ratings</th>\n",
       "      <th>timestamp</th>\n",
       "    </tr>\n",
       "  </thead>\n",
       "  <tbody>\n",
       "    <tr>\n",
       "      <th>0</th>\n",
       "      <td>1</td>\n",
       "      <td>1193</td>\n",
       "      <td>5</td>\n",
       "      <td>978300760</td>\n",
       "    </tr>\n",
       "    <tr>\n",
       "      <th>1</th>\n",
       "      <td>1</td>\n",
       "      <td>661</td>\n",
       "      <td>3</td>\n",
       "      <td>978302109</td>\n",
       "    </tr>\n",
       "    <tr>\n",
       "      <th>2</th>\n",
       "      <td>1</td>\n",
       "      <td>914</td>\n",
       "      <td>3</td>\n",
       "      <td>978301968</td>\n",
       "    </tr>\n",
       "    <tr>\n",
       "      <th>3</th>\n",
       "      <td>1</td>\n",
       "      <td>3408</td>\n",
       "      <td>4</td>\n",
       "      <td>978300275</td>\n",
       "    </tr>\n",
       "    <tr>\n",
       "      <th>4</th>\n",
       "      <td>1</td>\n",
       "      <td>2355</td>\n",
       "      <td>5</td>\n",
       "      <td>978824291</td>\n",
       "    </tr>\n",
       "  </tbody>\n",
       "</table>\n",
       "</div>"
      ],
      "text/plain": [
       "   user_id  movie_id  ratings  timestamp\n",
       "0        1      1193        5  978300760\n",
       "1        1       661        3  978302109\n",
       "2        1       914        3  978301968\n",
       "3        1      3408        4  978300275\n",
       "4        1      2355        5  978824291"
      ]
     },
     "execution_count": 3,
     "metadata": {},
     "output_type": "execute_result"
    }
   ],
   "source": [
    "import os\n",
    "rating_file_path=os.getenv('HOME') + '/aiffel/recommendata_iu/data/ml-1m/ratings.dat'\n",
    "ratings_cols = ['user_id', 'movie_id', 'ratings', 'timestamp']\n",
    "ratings = pd.read_csv(rating_file_path, sep='::', names=ratings_cols, engine='python', encoding = \"ISO-8859-1\")\n",
    "orginal_data_size = len(ratings)\n",
    "ratings.head()"
   ]
  },
  {
   "cell_type": "code",
   "execution_count": 4,
   "id": "bd151516",
   "metadata": {},
   "outputs": [
    {
     "name": "stdout",
     "output_type": "stream",
     "text": [
      "orginal_data_size: 1000209, filtered_data_size: 836478\n",
      "Ratio of Remaining Data is 83.63%\n"
     ]
    }
   ],
   "source": [
    "# 3점 이상만 남깁니다.\n",
    "ratings = ratings[ratings['ratings']>=3]\n",
    "filtered_data_size = len(ratings)\n",
    "\n",
    "print(f'orginal_data_size: {orginal_data_size}, filtered_data_size: {filtered_data_size}')\n",
    "print(f'Ratio of Remaining Data is {filtered_data_size / orginal_data_size:.2%}')"
   ]
  },
  {
   "cell_type": "markdown",
   "id": "93cb693b",
   "metadata": {},
   "source": [
    "유저가 3점 미만으로 준 데이터는 선호하지 않는다고 가정하고 제외한다."
   ]
  },
  {
   "cell_type": "code",
   "execution_count": 5,
   "id": "bccc8861",
   "metadata": {},
   "outputs": [],
   "source": [
    "# ratings 컬럼의 이름을 counts로 바꿉니다.\n",
    "ratings.rename(columns={'ratings':'counts'}, inplace=True)"
   ]
  },
  {
   "cell_type": "code",
   "execution_count": 6,
   "id": "df7621aa",
   "metadata": {},
   "outputs": [
    {
     "data": {
      "text/plain": [
       "0          5\n",
       "1          3\n",
       "2          3\n",
       "3          4\n",
       "4          5\n",
       "          ..\n",
       "1000203    3\n",
       "1000205    5\n",
       "1000206    5\n",
       "1000207    4\n",
       "1000208    4\n",
       "Name: counts, Length: 836478, dtype: int64"
      ]
     },
     "execution_count": 6,
     "metadata": {},
     "output_type": "execute_result"
    }
   ],
   "source": [
    "ratings['counts']"
   ]
  },
  {
   "cell_type": "markdown",
   "id": "e4202d7f",
   "metadata": {},
   "source": [
    "ratings 컬럼의 이름이 counts로 잘 바뀐 것을 확인할 수 있다."
   ]
  },
  {
   "cell_type": "code",
   "execution_count": 7,
   "id": "9bc96b34",
   "metadata": {},
   "outputs": [
    {
     "data": {
      "text/html": [
       "<div>\n",
       "<style scoped>\n",
       "    .dataframe tbody tr th:only-of-type {\n",
       "        vertical-align: middle;\n",
       "    }\n",
       "\n",
       "    .dataframe tbody tr th {\n",
       "        vertical-align: top;\n",
       "    }\n",
       "\n",
       "    .dataframe thead th {\n",
       "        text-align: right;\n",
       "    }\n",
       "</style>\n",
       "<table border=\"1\" class=\"dataframe\">\n",
       "  <thead>\n",
       "    <tr style=\"text-align: right;\">\n",
       "      <th></th>\n",
       "      <th>user_id</th>\n",
       "      <th>movie_id</th>\n",
       "      <th>counts</th>\n",
       "      <th>timestamp</th>\n",
       "    </tr>\n",
       "  </thead>\n",
       "  <tbody>\n",
       "    <tr>\n",
       "      <th>0</th>\n",
       "      <td>1</td>\n",
       "      <td>1193</td>\n",
       "      <td>5</td>\n",
       "      <td>978300760</td>\n",
       "    </tr>\n",
       "    <tr>\n",
       "      <th>1</th>\n",
       "      <td>1</td>\n",
       "      <td>661</td>\n",
       "      <td>3</td>\n",
       "      <td>978302109</td>\n",
       "    </tr>\n",
       "    <tr>\n",
       "      <th>2</th>\n",
       "      <td>1</td>\n",
       "      <td>914</td>\n",
       "      <td>3</td>\n",
       "      <td>978301968</td>\n",
       "    </tr>\n",
       "    <tr>\n",
       "      <th>3</th>\n",
       "      <td>1</td>\n",
       "      <td>3408</td>\n",
       "      <td>4</td>\n",
       "      <td>978300275</td>\n",
       "    </tr>\n",
       "    <tr>\n",
       "      <th>4</th>\n",
       "      <td>1</td>\n",
       "      <td>2355</td>\n",
       "      <td>5</td>\n",
       "      <td>978824291</td>\n",
       "    </tr>\n",
       "    <tr>\n",
       "      <th>5</th>\n",
       "      <td>1</td>\n",
       "      <td>1197</td>\n",
       "      <td>3</td>\n",
       "      <td>978302268</td>\n",
       "    </tr>\n",
       "    <tr>\n",
       "      <th>6</th>\n",
       "      <td>1</td>\n",
       "      <td>1287</td>\n",
       "      <td>5</td>\n",
       "      <td>978302039</td>\n",
       "    </tr>\n",
       "    <tr>\n",
       "      <th>7</th>\n",
       "      <td>1</td>\n",
       "      <td>2804</td>\n",
       "      <td>5</td>\n",
       "      <td>978300719</td>\n",
       "    </tr>\n",
       "    <tr>\n",
       "      <th>8</th>\n",
       "      <td>1</td>\n",
       "      <td>594</td>\n",
       "      <td>4</td>\n",
       "      <td>978302268</td>\n",
       "    </tr>\n",
       "    <tr>\n",
       "      <th>9</th>\n",
       "      <td>1</td>\n",
       "      <td>919</td>\n",
       "      <td>4</td>\n",
       "      <td>978301368</td>\n",
       "    </tr>\n",
       "  </tbody>\n",
       "</table>\n",
       "</div>"
      ],
      "text/plain": [
       "   user_id  movie_id  counts  timestamp\n",
       "0        1      1193       5  978300760\n",
       "1        1       661       3  978302109\n",
       "2        1       914       3  978301968\n",
       "3        1      3408       4  978300275\n",
       "4        1      2355       5  978824291\n",
       "5        1      1197       3  978302268\n",
       "6        1      1287       5  978302039\n",
       "7        1      2804       5  978300719\n",
       "8        1       594       4  978302268\n",
       "9        1       919       4  978301368"
      ]
     },
     "execution_count": 7,
     "metadata": {},
     "output_type": "execute_result"
    }
   ],
   "source": [
    "ratings.head(10)"
   ]
  },
  {
   "cell_type": "code",
   "execution_count": 8,
   "id": "8beaeeb6",
   "metadata": {},
   "outputs": [
    {
     "data": {
      "text/html": [
       "<div>\n",
       "<style scoped>\n",
       "    .dataframe tbody tr th:only-of-type {\n",
       "        vertical-align: middle;\n",
       "    }\n",
       "\n",
       "    .dataframe tbody tr th {\n",
       "        vertical-align: top;\n",
       "    }\n",
       "\n",
       "    .dataframe thead th {\n",
       "        text-align: right;\n",
       "    }\n",
       "</style>\n",
       "<table border=\"1\" class=\"dataframe\">\n",
       "  <thead>\n",
       "    <tr style=\"text-align: right;\">\n",
       "      <th></th>\n",
       "      <th>user_id</th>\n",
       "      <th>movie_id</th>\n",
       "      <th>counts</th>\n",
       "      <th>timestamp</th>\n",
       "    </tr>\n",
       "  </thead>\n",
       "  <tbody>\n",
       "    <tr>\n",
       "      <th>1000198</th>\n",
       "      <td>6040</td>\n",
       "      <td>2021</td>\n",
       "      <td>3</td>\n",
       "      <td>956716374</td>\n",
       "    </tr>\n",
       "    <tr>\n",
       "      <th>1000199</th>\n",
       "      <td>6040</td>\n",
       "      <td>2022</td>\n",
       "      <td>5</td>\n",
       "      <td>956716207</td>\n",
       "    </tr>\n",
       "    <tr>\n",
       "      <th>1000200</th>\n",
       "      <td>6040</td>\n",
       "      <td>2028</td>\n",
       "      <td>5</td>\n",
       "      <td>956704519</td>\n",
       "    </tr>\n",
       "    <tr>\n",
       "      <th>1000201</th>\n",
       "      <td>6040</td>\n",
       "      <td>1080</td>\n",
       "      <td>4</td>\n",
       "      <td>957717322</td>\n",
       "    </tr>\n",
       "    <tr>\n",
       "      <th>1000202</th>\n",
       "      <td>6040</td>\n",
       "      <td>1089</td>\n",
       "      <td>4</td>\n",
       "      <td>956704996</td>\n",
       "    </tr>\n",
       "    <tr>\n",
       "      <th>1000203</th>\n",
       "      <td>6040</td>\n",
       "      <td>1090</td>\n",
       "      <td>3</td>\n",
       "      <td>956715518</td>\n",
       "    </tr>\n",
       "    <tr>\n",
       "      <th>1000205</th>\n",
       "      <td>6040</td>\n",
       "      <td>1094</td>\n",
       "      <td>5</td>\n",
       "      <td>956704887</td>\n",
       "    </tr>\n",
       "    <tr>\n",
       "      <th>1000206</th>\n",
       "      <td>6040</td>\n",
       "      <td>562</td>\n",
       "      <td>5</td>\n",
       "      <td>956704746</td>\n",
       "    </tr>\n",
       "    <tr>\n",
       "      <th>1000207</th>\n",
       "      <td>6040</td>\n",
       "      <td>1096</td>\n",
       "      <td>4</td>\n",
       "      <td>956715648</td>\n",
       "    </tr>\n",
       "    <tr>\n",
       "      <th>1000208</th>\n",
       "      <td>6040</td>\n",
       "      <td>1097</td>\n",
       "      <td>4</td>\n",
       "      <td>956715569</td>\n",
       "    </tr>\n",
       "  </tbody>\n",
       "</table>\n",
       "</div>"
      ],
      "text/plain": [
       "         user_id  movie_id  counts  timestamp\n",
       "1000198     6040      2021       3  956716374\n",
       "1000199     6040      2022       5  956716207\n",
       "1000200     6040      2028       5  956704519\n",
       "1000201     6040      1080       4  957717322\n",
       "1000202     6040      1089       4  956704996\n",
       "1000203     6040      1090       3  956715518\n",
       "1000205     6040      1094       5  956704887\n",
       "1000206     6040       562       5  956704746\n",
       "1000207     6040      1096       4  956715648\n",
       "1000208     6040      1097       4  956715569"
      ]
     },
     "execution_count": 8,
     "metadata": {},
     "output_type": "execute_result"
    }
   ],
   "source": [
    "ratings.tail(10)"
   ]
  },
  {
   "cell_type": "markdown",
   "id": "ddf3e3cb",
   "metadata": {},
   "source": [
    "ratings 컬럼의 이름이 counts로 잘 바뀌었는지 표로 확인하면 더 좋다."
   ]
  },
  {
   "cell_type": "code",
   "execution_count": 9,
   "id": "d7389ed1",
   "metadata": {},
   "outputs": [
    {
     "data": {
      "text/html": [
       "<div>\n",
       "<style scoped>\n",
       "    .dataframe tbody tr th:only-of-type {\n",
       "        vertical-align: middle;\n",
       "    }\n",
       "\n",
       "    .dataframe tbody tr th {\n",
       "        vertical-align: top;\n",
       "    }\n",
       "\n",
       "    .dataframe thead th {\n",
       "        text-align: right;\n",
       "    }\n",
       "</style>\n",
       "<table border=\"1\" class=\"dataframe\">\n",
       "  <thead>\n",
       "    <tr style=\"text-align: right;\">\n",
       "      <th></th>\n",
       "      <th>user_id</th>\n",
       "      <th>movie_id</th>\n",
       "      <th>counts</th>\n",
       "    </tr>\n",
       "  </thead>\n",
       "  <tbody>\n",
       "    <tr>\n",
       "      <th>0</th>\n",
       "      <td>1</td>\n",
       "      <td>1193</td>\n",
       "      <td>5</td>\n",
       "    </tr>\n",
       "    <tr>\n",
       "      <th>1</th>\n",
       "      <td>1</td>\n",
       "      <td>661</td>\n",
       "      <td>3</td>\n",
       "    </tr>\n",
       "    <tr>\n",
       "      <th>2</th>\n",
       "      <td>1</td>\n",
       "      <td>914</td>\n",
       "      <td>3</td>\n",
       "    </tr>\n",
       "    <tr>\n",
       "      <th>3</th>\n",
       "      <td>1</td>\n",
       "      <td>3408</td>\n",
       "      <td>4</td>\n",
       "    </tr>\n",
       "    <tr>\n",
       "      <th>4</th>\n",
       "      <td>1</td>\n",
       "      <td>2355</td>\n",
       "      <td>5</td>\n",
       "    </tr>\n",
       "    <tr>\n",
       "      <th>5</th>\n",
       "      <td>1</td>\n",
       "      <td>1197</td>\n",
       "      <td>3</td>\n",
       "    </tr>\n",
       "    <tr>\n",
       "      <th>6</th>\n",
       "      <td>1</td>\n",
       "      <td>1287</td>\n",
       "      <td>5</td>\n",
       "    </tr>\n",
       "    <tr>\n",
       "      <th>7</th>\n",
       "      <td>1</td>\n",
       "      <td>2804</td>\n",
       "      <td>5</td>\n",
       "    </tr>\n",
       "    <tr>\n",
       "      <th>8</th>\n",
       "      <td>1</td>\n",
       "      <td>594</td>\n",
       "      <td>4</td>\n",
       "    </tr>\n",
       "    <tr>\n",
       "      <th>9</th>\n",
       "      <td>1</td>\n",
       "      <td>919</td>\n",
       "      <td>4</td>\n",
       "    </tr>\n",
       "  </tbody>\n",
       "</table>\n",
       "</div>"
      ],
      "text/plain": [
       "   user_id  movie_id  counts\n",
       "0        1      1193       5\n",
       "1        1       661       3\n",
       "2        1       914       3\n",
       "3        1      3408       4\n",
       "4        1      2355       5\n",
       "5        1      1197       3\n",
       "6        1      1287       5\n",
       "7        1      2804       5\n",
       "8        1       594       4\n",
       "9        1       919       4"
      ]
     },
     "execution_count": 9,
     "metadata": {},
     "output_type": "execute_result"
    }
   ],
   "source": [
    "# 사용하는 컬럼만 남겨줍니다.\n",
    "using_cols = ['user_id', 'movie_id', 'counts']\n",
    "ratings = ratings[using_cols]\n",
    "ratings.head(10)"
   ]
  },
  {
   "cell_type": "code",
   "execution_count": 10,
   "id": "ca6a890b",
   "metadata": {},
   "outputs": [],
   "source": [
    "# ratings = ratings[['user_id', 'movie_id', 'count']]\n",
    "# ratings\n",
    "# ratings = ratings.drop(['timestamp'], axis=1)\n",
    "# ratings"
   ]
  },
  {
   "cell_type": "markdown",
   "id": "8ad81324",
   "metadata": {},
   "source": [
    "timestamp 항목은 우리의 관심사가 아니다. 그렇기 때문에 사용하는 컬럼만 남기고 제거한다."
   ]
  },
  {
   "cell_type": "code",
   "execution_count": 11,
   "id": "bf9d3d7f",
   "metadata": {},
   "outputs": [
    {
     "data": {
      "text/html": [
       "<div>\n",
       "<style scoped>\n",
       "    .dataframe tbody tr th:only-of-type {\n",
       "        vertical-align: middle;\n",
       "    }\n",
       "\n",
       "    .dataframe tbody tr th {\n",
       "        vertical-align: top;\n",
       "    }\n",
       "\n",
       "    .dataframe thead th {\n",
       "        text-align: right;\n",
       "    }\n",
       "</style>\n",
       "<table border=\"1\" class=\"dataframe\">\n",
       "  <thead>\n",
       "    <tr style=\"text-align: right;\">\n",
       "      <th></th>\n",
       "      <th>movie_id</th>\n",
       "      <th>title</th>\n",
       "      <th>genre</th>\n",
       "    </tr>\n",
       "  </thead>\n",
       "  <tbody>\n",
       "    <tr>\n",
       "      <th>0</th>\n",
       "      <td>1</td>\n",
       "      <td>Toy Story (1995)</td>\n",
       "      <td>Animation|Children's|Comedy</td>\n",
       "    </tr>\n",
       "    <tr>\n",
       "      <th>1</th>\n",
       "      <td>2</td>\n",
       "      <td>Jumanji (1995)</td>\n",
       "      <td>Adventure|Children's|Fantasy</td>\n",
       "    </tr>\n",
       "    <tr>\n",
       "      <th>2</th>\n",
       "      <td>3</td>\n",
       "      <td>Grumpier Old Men (1995)</td>\n",
       "      <td>Comedy|Romance</td>\n",
       "    </tr>\n",
       "    <tr>\n",
       "      <th>3</th>\n",
       "      <td>4</td>\n",
       "      <td>Waiting to Exhale (1995)</td>\n",
       "      <td>Comedy|Drama</td>\n",
       "    </tr>\n",
       "    <tr>\n",
       "      <th>4</th>\n",
       "      <td>5</td>\n",
       "      <td>Father of the Bride Part II (1995)</td>\n",
       "      <td>Comedy</td>\n",
       "    </tr>\n",
       "  </tbody>\n",
       "</table>\n",
       "</div>"
      ],
      "text/plain": [
       "   movie_id                               title                         genre\n",
       "0         1                    Toy Story (1995)   Animation|Children's|Comedy\n",
       "1         2                      Jumanji (1995)  Adventure|Children's|Fantasy\n",
       "2         3             Grumpier Old Men (1995)                Comedy|Romance\n",
       "3         4            Waiting to Exhale (1995)                  Comedy|Drama\n",
       "4         5  Father of the Bride Part II (1995)                        Comedy"
      ]
     },
     "execution_count": 11,
     "metadata": {},
     "output_type": "execute_result"
    }
   ],
   "source": [
    "# 영화 제목을 보기 위해 메타 데이터를 읽어옵니다.\n",
    "movie_file_path=os.getenv('HOME') + '/aiffel/recommendata_iu/data/ml-1m/movies.dat'\n",
    "cols = ['movie_id', 'title', 'genre'] \n",
    "movies = pd.read_csv(movie_file_path, sep='::', names=cols, engine='python', encoding='ISO-8859-1')\n",
    "movies.head()"
   ]
  },
  {
   "cell_type": "markdown",
   "id": "1affca66",
   "metadata": {},
   "source": [
    "영화 제목을 보기 위해 메타 데이터를 읽어온다."
   ]
  },
  {
   "cell_type": "code",
   "execution_count": 12,
   "id": "4e5147b6",
   "metadata": {},
   "outputs": [
    {
     "data": {
      "text/html": [
       "<div>\n",
       "<style scoped>\n",
       "    .dataframe tbody tr th:only-of-type {\n",
       "        vertical-align: middle;\n",
       "    }\n",
       "\n",
       "    .dataframe tbody tr th {\n",
       "        vertical-align: top;\n",
       "    }\n",
       "\n",
       "    .dataframe thead th {\n",
       "        text-align: right;\n",
       "    }\n",
       "</style>\n",
       "<table border=\"1\" class=\"dataframe\">\n",
       "  <thead>\n",
       "    <tr style=\"text-align: right;\">\n",
       "      <th></th>\n",
       "      <th>movie_id</th>\n",
       "      <th>title</th>\n",
       "      <th>genre</th>\n",
       "    </tr>\n",
       "  </thead>\n",
       "  <tbody>\n",
       "    <tr>\n",
       "      <th>0</th>\n",
       "      <td>1</td>\n",
       "      <td>toy story (1995)</td>\n",
       "      <td>Animation|Children's|Comedy</td>\n",
       "    </tr>\n",
       "    <tr>\n",
       "      <th>1</th>\n",
       "      <td>2</td>\n",
       "      <td>jumanji (1995)</td>\n",
       "      <td>Adventure|Children's|Fantasy</td>\n",
       "    </tr>\n",
       "    <tr>\n",
       "      <th>2</th>\n",
       "      <td>3</td>\n",
       "      <td>grumpier old men (1995)</td>\n",
       "      <td>Comedy|Romance</td>\n",
       "    </tr>\n",
       "    <tr>\n",
       "      <th>3</th>\n",
       "      <td>4</td>\n",
       "      <td>waiting to exhale (1995)</td>\n",
       "      <td>Comedy|Drama</td>\n",
       "    </tr>\n",
       "    <tr>\n",
       "      <th>4</th>\n",
       "      <td>5</td>\n",
       "      <td>father of the bride part ii (1995)</td>\n",
       "      <td>Comedy</td>\n",
       "    </tr>\n",
       "    <tr>\n",
       "      <th>5</th>\n",
       "      <td>6</td>\n",
       "      <td>heat (1995)</td>\n",
       "      <td>Action|Crime|Thriller</td>\n",
       "    </tr>\n",
       "    <tr>\n",
       "      <th>6</th>\n",
       "      <td>7</td>\n",
       "      <td>sabrina (1995)</td>\n",
       "      <td>Comedy|Romance</td>\n",
       "    </tr>\n",
       "    <tr>\n",
       "      <th>7</th>\n",
       "      <td>8</td>\n",
       "      <td>tom and huck (1995)</td>\n",
       "      <td>Adventure|Children's</td>\n",
       "    </tr>\n",
       "    <tr>\n",
       "      <th>8</th>\n",
       "      <td>9</td>\n",
       "      <td>sudden death (1995)</td>\n",
       "      <td>Action</td>\n",
       "    </tr>\n",
       "    <tr>\n",
       "      <th>9</th>\n",
       "      <td>10</td>\n",
       "      <td>goldeneye (1995)</td>\n",
       "      <td>Action|Adventure|Thriller</td>\n",
       "    </tr>\n",
       "  </tbody>\n",
       "</table>\n",
       "</div>"
      ],
      "text/plain": [
       "   movie_id                               title                         genre\n",
       "0         1                    toy story (1995)   Animation|Children's|Comedy\n",
       "1         2                      jumanji (1995)  Adventure|Children's|Fantasy\n",
       "2         3             grumpier old men (1995)                Comedy|Romance\n",
       "3         4            waiting to exhale (1995)                  Comedy|Drama\n",
       "4         5  father of the bride part ii (1995)                        Comedy\n",
       "5         6                         heat (1995)         Action|Crime|Thriller\n",
       "6         7                      sabrina (1995)                Comedy|Romance\n",
       "7         8                 tom and huck (1995)          Adventure|Children's\n",
       "8         9                 sudden death (1995)                        Action\n",
       "9        10                    goldeneye (1995)     Action|Adventure|Thriller"
      ]
     },
     "execution_count": 12,
     "metadata": {},
     "output_type": "execute_result"
    }
   ],
   "source": [
    "movies['title'] = movies['title'].str.lower()\n",
    "movies.head(10)"
   ]
  },
  {
   "cell_type": "markdown",
   "id": "47371b26",
   "metadata": {},
   "source": [
    "검색을 쉽게 하기 위해 'title'을 소문자로 바꿔 준다."
   ]
  },
  {
   "cell_type": "code",
   "execution_count": 13,
   "id": "88b64a5b",
   "metadata": {},
   "outputs": [
    {
     "data": {
      "text/html": [
       "<div>\n",
       "<style scoped>\n",
       "    .dataframe tbody tr th:only-of-type {\n",
       "        vertical-align: middle;\n",
       "    }\n",
       "\n",
       "    .dataframe tbody tr th {\n",
       "        vertical-align: top;\n",
       "    }\n",
       "\n",
       "    .dataframe thead th {\n",
       "        text-align: right;\n",
       "    }\n",
       "</style>\n",
       "<table border=\"1\" class=\"dataframe\">\n",
       "  <thead>\n",
       "    <tr style=\"text-align: right;\">\n",
       "      <th></th>\n",
       "      <th>movie_id</th>\n",
       "      <th>title</th>\n",
       "      <th>genre</th>\n",
       "    </tr>\n",
       "  </thead>\n",
       "  <tbody>\n",
       "    <tr>\n",
       "      <th>3878</th>\n",
       "      <td>3948</td>\n",
       "      <td>meet the parents (2000)</td>\n",
       "      <td>Comedy</td>\n",
       "    </tr>\n",
       "    <tr>\n",
       "      <th>3879</th>\n",
       "      <td>3949</td>\n",
       "      <td>requiem for a dream (2000)</td>\n",
       "      <td>Drama</td>\n",
       "    </tr>\n",
       "    <tr>\n",
       "      <th>3880</th>\n",
       "      <td>3950</td>\n",
       "      <td>tigerland (2000)</td>\n",
       "      <td>Drama</td>\n",
       "    </tr>\n",
       "    <tr>\n",
       "      <th>3881</th>\n",
       "      <td>3951</td>\n",
       "      <td>two family house (2000)</td>\n",
       "      <td>Drama</td>\n",
       "    </tr>\n",
       "    <tr>\n",
       "      <th>3882</th>\n",
       "      <td>3952</td>\n",
       "      <td>contender, the (2000)</td>\n",
       "      <td>Drama|Thriller</td>\n",
       "    </tr>\n",
       "  </tbody>\n",
       "</table>\n",
       "</div>"
      ],
      "text/plain": [
       "      movie_id                       title           genre\n",
       "3878      3948     meet the parents (2000)          Comedy\n",
       "3879      3949  requiem for a dream (2000)           Drama\n",
       "3880      3950            tigerland (2000)           Drama\n",
       "3881      3951     two family house (2000)           Drama\n",
       "3882      3952       contender, the (2000)  Drama|Thriller"
      ]
     },
     "execution_count": 13,
     "metadata": {},
     "output_type": "execute_result"
    }
   ],
   "source": [
    "movies.tail()"
   ]
  },
  {
   "cell_type": "markdown",
   "id": "b6276bc4",
   "metadata": {},
   "source": [
    "확인을 해보니 소문자로 잘 바뀌었다."
   ]
  },
  {
   "cell_type": "markdown",
   "id": "de3282ba",
   "metadata": {},
   "source": [
    "지금부터는 원활한 진행을 위해 ratings, movies 데이터를 합치겠다."
   ]
  },
  {
   "cell_type": "code",
   "execution_count": 14,
   "id": "53bea348",
   "metadata": {},
   "outputs": [
    {
     "data": {
      "text/html": [
       "<div>\n",
       "<style scoped>\n",
       "    .dataframe tbody tr th:only-of-type {\n",
       "        vertical-align: middle;\n",
       "    }\n",
       "\n",
       "    .dataframe tbody tr th {\n",
       "        vertical-align: top;\n",
       "    }\n",
       "\n",
       "    .dataframe thead th {\n",
       "        text-align: right;\n",
       "    }\n",
       "</style>\n",
       "<table border=\"1\" class=\"dataframe\">\n",
       "  <thead>\n",
       "    <tr style=\"text-align: right;\">\n",
       "      <th></th>\n",
       "      <th>user_id</th>\n",
       "      <th>movie_id</th>\n",
       "      <th>counts</th>\n",
       "      <th>title</th>\n",
       "      <th>genre</th>\n",
       "    </tr>\n",
       "  </thead>\n",
       "  <tbody>\n",
       "    <tr>\n",
       "      <th>0</th>\n",
       "      <td>1</td>\n",
       "      <td>1193</td>\n",
       "      <td>5</td>\n",
       "      <td>one flew over the cuckoo's nest (1975)</td>\n",
       "      <td>Drama</td>\n",
       "    </tr>\n",
       "    <tr>\n",
       "      <th>1</th>\n",
       "      <td>2</td>\n",
       "      <td>1193</td>\n",
       "      <td>5</td>\n",
       "      <td>one flew over the cuckoo's nest (1975)</td>\n",
       "      <td>Drama</td>\n",
       "    </tr>\n",
       "    <tr>\n",
       "      <th>2</th>\n",
       "      <td>12</td>\n",
       "      <td>1193</td>\n",
       "      <td>4</td>\n",
       "      <td>one flew over the cuckoo's nest (1975)</td>\n",
       "      <td>Drama</td>\n",
       "    </tr>\n",
       "    <tr>\n",
       "      <th>3</th>\n",
       "      <td>15</td>\n",
       "      <td>1193</td>\n",
       "      <td>4</td>\n",
       "      <td>one flew over the cuckoo's nest (1975)</td>\n",
       "      <td>Drama</td>\n",
       "    </tr>\n",
       "    <tr>\n",
       "      <th>4</th>\n",
       "      <td>17</td>\n",
       "      <td>1193</td>\n",
       "      <td>5</td>\n",
       "      <td>one flew over the cuckoo's nest (1975)</td>\n",
       "      <td>Drama</td>\n",
       "    </tr>\n",
       "    <tr>\n",
       "      <th>...</th>\n",
       "      <td>...</td>\n",
       "      <td>...</td>\n",
       "      <td>...</td>\n",
       "      <td>...</td>\n",
       "      <td>...</td>\n",
       "    </tr>\n",
       "    <tr>\n",
       "      <th>836473</th>\n",
       "      <td>5851</td>\n",
       "      <td>3607</td>\n",
       "      <td>5</td>\n",
       "      <td>one little indian (1973)</td>\n",
       "      <td>Comedy|Drama|Western</td>\n",
       "    </tr>\n",
       "    <tr>\n",
       "      <th>836474</th>\n",
       "      <td>5854</td>\n",
       "      <td>3026</td>\n",
       "      <td>4</td>\n",
       "      <td>slaughterhouse (1987)</td>\n",
       "      <td>Horror</td>\n",
       "    </tr>\n",
       "    <tr>\n",
       "      <th>836475</th>\n",
       "      <td>5854</td>\n",
       "      <td>690</td>\n",
       "      <td>3</td>\n",
       "      <td>promise, the (versprechen, das) (1994)</td>\n",
       "      <td>Romance</td>\n",
       "    </tr>\n",
       "    <tr>\n",
       "      <th>836476</th>\n",
       "      <td>5938</td>\n",
       "      <td>2909</td>\n",
       "      <td>4</td>\n",
       "      <td>five wives, three secretaries and me (1998)</td>\n",
       "      <td>Documentary</td>\n",
       "    </tr>\n",
       "    <tr>\n",
       "      <th>836477</th>\n",
       "      <td>5948</td>\n",
       "      <td>1360</td>\n",
       "      <td>5</td>\n",
       "      <td>identification of a woman (identificazione di ...</td>\n",
       "      <td>Drama</td>\n",
       "    </tr>\n",
       "  </tbody>\n",
       "</table>\n",
       "<p>836478 rows × 5 columns</p>\n",
       "</div>"
      ],
      "text/plain": [
       "        user_id  movie_id  counts  \\\n",
       "0             1      1193       5   \n",
       "1             2      1193       5   \n",
       "2            12      1193       4   \n",
       "3            15      1193       4   \n",
       "4            17      1193       5   \n",
       "...         ...       ...     ...   \n",
       "836473     5851      3607       5   \n",
       "836474     5854      3026       4   \n",
       "836475     5854       690       3   \n",
       "836476     5938      2909       4   \n",
       "836477     5948      1360       5   \n",
       "\n",
       "                                                    title  \\\n",
       "0                  one flew over the cuckoo's nest (1975)   \n",
       "1                  one flew over the cuckoo's nest (1975)   \n",
       "2                  one flew over the cuckoo's nest (1975)   \n",
       "3                  one flew over the cuckoo's nest (1975)   \n",
       "4                  one flew over the cuckoo's nest (1975)   \n",
       "...                                                   ...   \n",
       "836473                           one little indian (1973)   \n",
       "836474                              slaughterhouse (1987)   \n",
       "836475             promise, the (versprechen, das) (1994)   \n",
       "836476        five wives, three secretaries and me (1998)   \n",
       "836477  identification of a woman (identificazione di ...   \n",
       "\n",
       "                       genre  \n",
       "0                      Drama  \n",
       "1                      Drama  \n",
       "2                      Drama  \n",
       "3                      Drama  \n",
       "4                      Drama  \n",
       "...                      ...  \n",
       "836473  Comedy|Drama|Western  \n",
       "836474                Horror  \n",
       "836475               Romance  \n",
       "836476           Documentary  \n",
       "836477                 Drama  \n",
       "\n",
       "[836478 rows x 5 columns]"
      ]
     },
     "execution_count": 14,
     "metadata": {},
     "output_type": "execute_result"
    }
   ],
   "source": [
    "movie_data = pd.merge(ratings, movies)\n",
    "movie_data"
   ]
  },
  {
   "cell_type": "code",
   "execution_count": 15,
   "id": "32a2d819",
   "metadata": {},
   "outputs": [],
   "source": [
    "#movie_data = pd.merge(ratings, movies, on='movie_id')\n",
    "#movie_data"
   ]
  },
  {
   "cell_type": "markdown",
   "id": "a78c6911",
   "metadata": {},
   "source": [
    "### 데이터 탐색"
   ]
  },
  {
   "cell_type": "markdown",
   "id": "16768954",
   "metadata": {},
   "source": [
    "(참고) pandas.DataFrame.nunique()은 특정 컬럼에 포함된 유니크한 데이터의 개수를 알아보는데 유용하다. 아래와 같이 영화 수, 유저 수만 확인 가능하다."
   ]
  },
  {
   "cell_type": "code",
   "execution_count": 16,
   "id": "4986c7f1",
   "metadata": {},
   "outputs": [
    {
     "data": {
      "text/plain": [
       "3883"
      ]
     },
     "execution_count": 16,
     "metadata": {},
     "output_type": "execute_result"
    }
   ],
   "source": [
    "# 영화 수\n",
    "movies['title'].nunique()"
   ]
  },
  {
   "cell_type": "code",
   "execution_count": 17,
   "id": "6c4aa792",
   "metadata": {},
   "outputs": [
    {
     "data": {
      "text/plain": [
       "6039"
      ]
     },
     "execution_count": 17,
     "metadata": {},
     "output_type": "execute_result"
    }
   ],
   "source": [
    "# 유저 수\n",
    "ratings['user_id'].nunique()"
   ]
  },
  {
   "cell_type": "markdown",
   "id": "d8a7f86d",
   "metadata": {},
   "source": [
    "아래와 같이 인기 많은 영화 30개만 찾아보는 것도 가능하다."
   ]
  },
  {
   "cell_type": "code",
   "execution_count": 18,
   "id": "9e8d73d6",
   "metadata": {},
   "outputs": [
    {
     "data": {
      "text/plain": [
       "title\n",
       "american beauty (1999)                                   3211\n",
       "star wars: episode iv - a new hope (1977)                2910\n",
       "star wars: episode v - the empire strikes back (1980)    2885\n",
       "star wars: episode vi - return of the jedi (1983)        2716\n",
       "saving private ryan (1998)                               2561\n",
       "terminator 2: judgment day (1991)                        2509\n",
       "silence of the lambs, the (1991)                         2498\n",
       "raiders of the lost ark (1981)                           2473\n",
       "back to the future (1985)                                2460\n",
       "matrix, the (1999)                                       2434\n",
       "jurassic park (1993)                                     2413\n",
       "sixth sense, the (1999)                                  2385\n",
       "fargo (1996)                                             2371\n",
       "braveheart (1995)                                        2314\n",
       "men in black (1997)                                      2297\n",
       "schindler's list (1993)                                  2257\n",
       "princess bride, the (1987)                               2252\n",
       "shakespeare in love (1998)                               2213\n",
       "l.a. confidential (1997)                                 2210\n",
       "shawshank redemption, the (1994)                         2194\n",
       "godfather, the (1972)                                    2167\n",
       "groundhog day (1993)                                     2121\n",
       "e.t. the extra-terrestrial (1982)                        2102\n",
       "being john malkovich (1999)                              2066\n",
       "ghostbusters (1984)                                      2051\n",
       "pulp fiction (1994)                                      2030\n",
       "forrest gump (1994)                                      2022\n",
       "terminator, the (1984)                                   2019\n",
       "toy story (1995)                                         2000\n",
       "fugitive, the (1993)                                     1941\n",
       "Name: user_id, dtype: int64"
      ]
     },
     "execution_count": 18,
     "metadata": {},
     "output_type": "execute_result"
    }
   ],
   "source": [
    "# 인기 많은 영화\n",
    "# movie_data = pd.merge(ratings, movies)\n",
    "popular_movie = movie_data.groupby('title')['user_id'].count()\n",
    "popular_movie.sort_values(ascending=False).head(30)"
   ]
  },
  {
   "cell_type": "markdown",
   "id": "9eb3483b",
   "metadata": {},
   "source": [
    "### 모델 검증을 위한 사용자 초기 정보 세팅\n",
    "우리는 본인의 영화 취향과 가장 유사한 영화를 추천받으려 한다. 유튜브 뮤직 등 추천 시스템들은 이를 위해서 처음 가입하는 사용자의 취향과 유사한 아티스트 정보를 5개 이상 입력받는 과정을 거치게 하는 경우가 많다.  \n",
    "우리도 동일한 과정이 필요하다. 우리가 만든 추천 시스템의 추후 검증 과정을 위해 '나는 A를 좋아한다.'라는 정보를 위 데이터셋에 5개 이상 추가해 주어야 한다. 아래와 같이 선호하는 영화들을 기존의 데이터에 추가해서 넣겠다."
   ]
  },
  {
   "cell_type": "code",
   "execution_count": 19,
   "id": "dcb74313",
   "metadata": {},
   "outputs": [
    {
     "data": {
      "text/html": [
       "<div>\n",
       "<style scoped>\n",
       "    .dataframe tbody tr th:only-of-type {\n",
       "        vertical-align: middle;\n",
       "    }\n",
       "\n",
       "    .dataframe tbody tr th {\n",
       "        vertical-align: top;\n",
       "    }\n",
       "\n",
       "    .dataframe thead th {\n",
       "        text-align: right;\n",
       "    }\n",
       "</style>\n",
       "<table border=\"1\" class=\"dataframe\">\n",
       "  <thead>\n",
       "    <tr style=\"text-align: right;\">\n",
       "      <th></th>\n",
       "      <th>user_id</th>\n",
       "      <th>movie_id</th>\n",
       "      <th>counts</th>\n",
       "      <th>title</th>\n",
       "      <th>genre</th>\n",
       "    </tr>\n",
       "  </thead>\n",
       "  <tbody>\n",
       "    <tr>\n",
       "      <th>836473</th>\n",
       "      <td>5851</td>\n",
       "      <td>3607.0</td>\n",
       "      <td>5</td>\n",
       "      <td>one little indian (1973)</td>\n",
       "      <td>Comedy|Drama|Western</td>\n",
       "    </tr>\n",
       "    <tr>\n",
       "      <th>836474</th>\n",
       "      <td>5854</td>\n",
       "      <td>3026.0</td>\n",
       "      <td>4</td>\n",
       "      <td>slaughterhouse (1987)</td>\n",
       "      <td>Horror</td>\n",
       "    </tr>\n",
       "    <tr>\n",
       "      <th>836475</th>\n",
       "      <td>5854</td>\n",
       "      <td>690.0</td>\n",
       "      <td>3</td>\n",
       "      <td>promise, the (versprechen, das) (1994)</td>\n",
       "      <td>Romance</td>\n",
       "    </tr>\n",
       "    <tr>\n",
       "      <th>836476</th>\n",
       "      <td>5938</td>\n",
       "      <td>2909.0</td>\n",
       "      <td>4</td>\n",
       "      <td>five wives, three secretaries and me (1998)</td>\n",
       "      <td>Documentary</td>\n",
       "    </tr>\n",
       "    <tr>\n",
       "      <th>836477</th>\n",
       "      <td>5948</td>\n",
       "      <td>1360.0</td>\n",
       "      <td>5</td>\n",
       "      <td>identification of a woman (identificazione di ...</td>\n",
       "      <td>Drama</td>\n",
       "    </tr>\n",
       "    <tr>\n",
       "      <th>0</th>\n",
       "      <td>yong</td>\n",
       "      <td>NaN</td>\n",
       "      <td>5</td>\n",
       "      <td>jurassic park (1993)</td>\n",
       "      <td>NaN</td>\n",
       "    </tr>\n",
       "    <tr>\n",
       "      <th>1</th>\n",
       "      <td>yong</td>\n",
       "      <td>NaN</td>\n",
       "      <td>5</td>\n",
       "      <td>Men in Black (1997)</td>\n",
       "      <td>NaN</td>\n",
       "    </tr>\n",
       "    <tr>\n",
       "      <th>2</th>\n",
       "      <td>yong</td>\n",
       "      <td>NaN</td>\n",
       "      <td>5</td>\n",
       "      <td>terminator 2: judgment day (1991)</td>\n",
       "      <td>NaN</td>\n",
       "    </tr>\n",
       "    <tr>\n",
       "      <th>3</th>\n",
       "      <td>yong</td>\n",
       "      <td>NaN</td>\n",
       "      <td>5</td>\n",
       "      <td>terminator, the (1984)</td>\n",
       "      <td>NaN</td>\n",
       "    </tr>\n",
       "    <tr>\n",
       "      <th>4</th>\n",
       "      <td>yong</td>\n",
       "      <td>NaN</td>\n",
       "      <td>5</td>\n",
       "      <td>matrix, the (1999)</td>\n",
       "      <td>NaN</td>\n",
       "    </tr>\n",
       "  </tbody>\n",
       "</table>\n",
       "</div>"
      ],
      "text/plain": [
       "       user_id  movie_id  counts  \\\n",
       "836473    5851    3607.0       5   \n",
       "836474    5854    3026.0       4   \n",
       "836475    5854     690.0       3   \n",
       "836476    5938    2909.0       4   \n",
       "836477    5948    1360.0       5   \n",
       "0         yong       NaN       5   \n",
       "1         yong       NaN       5   \n",
       "2         yong       NaN       5   \n",
       "3         yong       NaN       5   \n",
       "4         yong       NaN       5   \n",
       "\n",
       "                                                    title  \\\n",
       "836473                           one little indian (1973)   \n",
       "836474                              slaughterhouse (1987)   \n",
       "836475             promise, the (versprechen, das) (1994)   \n",
       "836476        five wives, three secretaries and me (1998)   \n",
       "836477  identification of a woman (identificazione di ...   \n",
       "0                                    jurassic park (1993)   \n",
       "1                                     Men in Black (1997)   \n",
       "2                       terminator 2: judgment day (1991)   \n",
       "3                                  terminator, the (1984)   \n",
       "4                                      matrix, the (1999)   \n",
       "\n",
       "                       genre  \n",
       "836473  Comedy|Drama|Western  \n",
       "836474                Horror  \n",
       "836475               Romance  \n",
       "836476           Documentary  \n",
       "836477                 Drama  \n",
       "0                        NaN  \n",
       "1                        NaN  \n",
       "2                        NaN  \n",
       "3                        NaN  \n",
       "4                        NaN  "
      ]
     },
     "execution_count": 19,
     "metadata": {},
     "output_type": "execute_result"
    }
   ],
   "source": [
    "# 본인이 좋아하시는 영화 데이터로 바꿔서 추가하셔도 됩니다! 단, 이름은 꼭 데이터셋에 있는 것과 동일하게 맞춰주세요. \n",
    "my_favorite = ['jurassic park (1993)' , 'Men in Black (1997)' ,'terminator 2: judgment day (1991)' ,'terminator, the (1984)' ,'matrix, the (1999)']\n",
    "\n",
    "# 'yong'이라는 user_id가 위 영화를 5회씩 보았다고 가정하겠습니다.\n",
    "my_movielist = pd.DataFrame({'user_id': ['yong']*5, 'title': my_favorite, 'counts':[5]*5})\n",
    "\n",
    "if not ratings.isin({'user_id':['yong']})['user_id'].any():  # user_id에 'yong'이라는 데이터가 없다면\n",
    "    movie_data = movie_data.append(my_movielist)                           # 위에 임의로 만든 my_favorite 데이터를 추가해 줍니다. \n",
    "\n",
    "movie_data.tail(10)       # 잘 추가되었는지 확인해 봅시다."
   ]
  },
  {
   "cell_type": "markdown",
   "id": "bc93dc7d",
   "metadata": {},
   "source": [
    "### 모델에 활용하기 위한 전처리\n",
    "사람이 태어나면 주민등록번호를, 학교에 가면 출석번호를 주듯이 데이터의 관리를 쉽게 하기 위해 번호를 붙여준다. 우리가 다루는 데이터에서는 user와 movie 각각에 번호를 붙일 것이다. 보통 이런 작업을 indexing이라고 한다. 이는 추천 시스템, 자연어 처리에서 자주 하는 작업들이다!\n",
    "\n",
    "(참고) pandas.DataFrame.unique()은 특정 컬럼에 포함된 유니크한 데이터만 모아 준다. indexing 작업을 위해 매우 유용하다."
   ]
  },
  {
   "cell_type": "code",
   "execution_count": 20,
   "id": "0e8537b5",
   "metadata": {},
   "outputs": [],
   "source": [
    "# 고유한 유저, 영화를 찾아내는 코드\n",
    "user_unique = movie_data['user_id'].unique()\n",
    "movie_unique = movie_data['title'].unique()\n",
    "\n",
    "# 유저, 영화 indexing 하는 코드 idx는 index의 약자입니다.\n",
    "user_to_idx = {v:k for k,v in enumerate(user_unique)}\n",
    "movie_to_idx = {v:k for k,v in enumerate(movie_unique)}"
   ]
  },
  {
   "cell_type": "code",
   "execution_count": 21,
   "id": "84b8197d",
   "metadata": {},
   "outputs": [
    {
     "name": "stdout",
     "output_type": "stream",
     "text": [
      "6039\n",
      "107\n"
     ]
    }
   ],
   "source": [
    "# 인덱싱이 잘 되었는지 확인해 봅니다. \n",
    "print(user_to_idx['yong'])    # 만약 358869명의 유저 중 마지막으로 추가된 유저라면 358868이 나와야 합니다.\n",
    "print(movie_to_idx['jurassic park (1993)'])"
   ]
  },
  {
   "cell_type": "code",
   "execution_count": 22,
   "id": "5e62d546",
   "metadata": {},
   "outputs": [
    {
     "name": "stdout",
     "output_type": "stream",
     "text": [
      "user_id column indexing OK!!\n",
      "title column indexing OK!!\n"
     ]
    }
   ],
   "source": [
    "# indexing을 통해 데이터 컬럼 내 값을 바꾸는 코드\n",
    "# dictionary 자료형의 get 함수는 https://wikidocs.net/16 을 참고하세요.\n",
    "\n",
    "# user_to_idx.get을 통해 user_id 컬럼의 모든 값을 인덱싱한 Series를 구해 봅시다. \n",
    "# 혹시 정상적으로 인덱싱되지 않은 row가 있다면 인덱스가 NaN이 될 테니 dropna()로 제거합니다. \n",
    "temp_user_data = movie_data['user_id'].map(user_to_idx.get).dropna()\n",
    "if len(temp_user_data) == len(movie_data):   # 모든 row가 정상적으로 인덱싱되었다면\n",
    "    print('user_id column indexing OK!!')\n",
    "    movie_data['user_id'] = temp_user_data   # data['user_id']을 인덱싱된 Series로 교체해 줍니다. \n",
    "else:\n",
    "    print('user_id column indexing Fail!!')\n",
    "\n",
    "# movie_to_idx을 통해 title 컬럼도 동일한 방식으로 인덱싱해 줍니다. \n",
    "temp_movie_data = movie_data['title'].map(movie_to_idx.get).dropna()\n",
    "if len(temp_movie_data) == len(movie_data):\n",
    "    print('title column indexing OK!!')\n",
    "    movie_data['title'] = temp_movie_data\n",
    "else:\n",
    "    print('title column indexing Fail!!')"
   ]
  },
  {
   "cell_type": "code",
   "execution_count": 23,
   "id": "560ba0c7",
   "metadata": {},
   "outputs": [
    {
     "data": {
      "text/html": [
       "<div>\n",
       "<style scoped>\n",
       "    .dataframe tbody tr th:only-of-type {\n",
       "        vertical-align: middle;\n",
       "    }\n",
       "\n",
       "    .dataframe tbody tr th {\n",
       "        vertical-align: top;\n",
       "    }\n",
       "\n",
       "    .dataframe thead th {\n",
       "        text-align: right;\n",
       "    }\n",
       "</style>\n",
       "<table border=\"1\" class=\"dataframe\">\n",
       "  <thead>\n",
       "    <tr style=\"text-align: right;\">\n",
       "      <th></th>\n",
       "      <th>user_id</th>\n",
       "      <th>movie_id</th>\n",
       "      <th>counts</th>\n",
       "      <th>title</th>\n",
       "      <th>genre</th>\n",
       "    </tr>\n",
       "  </thead>\n",
       "  <tbody>\n",
       "    <tr>\n",
       "      <th>0</th>\n",
       "      <td>0</td>\n",
       "      <td>1193.0</td>\n",
       "      <td>5</td>\n",
       "      <td>0</td>\n",
       "      <td>Drama</td>\n",
       "    </tr>\n",
       "    <tr>\n",
       "      <th>1</th>\n",
       "      <td>1</td>\n",
       "      <td>1193.0</td>\n",
       "      <td>5</td>\n",
       "      <td>0</td>\n",
       "      <td>Drama</td>\n",
       "    </tr>\n",
       "    <tr>\n",
       "      <th>2</th>\n",
       "      <td>2</td>\n",
       "      <td>1193.0</td>\n",
       "      <td>4</td>\n",
       "      <td>0</td>\n",
       "      <td>Drama</td>\n",
       "    </tr>\n",
       "    <tr>\n",
       "      <th>3</th>\n",
       "      <td>3</td>\n",
       "      <td>1193.0</td>\n",
       "      <td>4</td>\n",
       "      <td>0</td>\n",
       "      <td>Drama</td>\n",
       "    </tr>\n",
       "    <tr>\n",
       "      <th>4</th>\n",
       "      <td>4</td>\n",
       "      <td>1193.0</td>\n",
       "      <td>5</td>\n",
       "      <td>0</td>\n",
       "      <td>Drama</td>\n",
       "    </tr>\n",
       "    <tr>\n",
       "      <th>...</th>\n",
       "      <td>...</td>\n",
       "      <td>...</td>\n",
       "      <td>...</td>\n",
       "      <td>...</td>\n",
       "      <td>...</td>\n",
       "    </tr>\n",
       "    <tr>\n",
       "      <th>0</th>\n",
       "      <td>6039</td>\n",
       "      <td>NaN</td>\n",
       "      <td>5</td>\n",
       "      <td>107</td>\n",
       "      <td>NaN</td>\n",
       "    </tr>\n",
       "    <tr>\n",
       "      <th>1</th>\n",
       "      <td>6039</td>\n",
       "      <td>NaN</td>\n",
       "      <td>5</td>\n",
       "      <td>3628</td>\n",
       "      <td>NaN</td>\n",
       "    </tr>\n",
       "    <tr>\n",
       "      <th>2</th>\n",
       "      <td>6039</td>\n",
       "      <td>NaN</td>\n",
       "      <td>5</td>\n",
       "      <td>92</td>\n",
       "      <td>NaN</td>\n",
       "    </tr>\n",
       "    <tr>\n",
       "      <th>3</th>\n",
       "      <td>6039</td>\n",
       "      <td>NaN</td>\n",
       "      <td>5</td>\n",
       "      <td>200</td>\n",
       "      <td>NaN</td>\n",
       "    </tr>\n",
       "    <tr>\n",
       "      <th>4</th>\n",
       "      <td>6039</td>\n",
       "      <td>NaN</td>\n",
       "      <td>5</td>\n",
       "      <td>124</td>\n",
       "      <td>NaN</td>\n",
       "    </tr>\n",
       "  </tbody>\n",
       "</table>\n",
       "<p>836483 rows × 5 columns</p>\n",
       "</div>"
      ],
      "text/plain": [
       "    user_id  movie_id  counts  title  genre\n",
       "0         0    1193.0       5      0  Drama\n",
       "1         1    1193.0       5      0  Drama\n",
       "2         2    1193.0       4      0  Drama\n",
       "3         3    1193.0       4      0  Drama\n",
       "4         4    1193.0       5      0  Drama\n",
       "..      ...       ...     ...    ...    ...\n",
       "0      6039       NaN       5    107    NaN\n",
       "1      6039       NaN       5   3628    NaN\n",
       "2      6039       NaN       5     92    NaN\n",
       "3      6039       NaN       5    200    NaN\n",
       "4      6039       NaN       5    124    NaN\n",
       "\n",
       "[836483 rows x 5 columns]"
      ]
     },
     "execution_count": 23,
     "metadata": {},
     "output_type": "execute_result"
    }
   ],
   "source": [
    "movie_data"
   ]
  },
  {
   "cell_type": "markdown",
   "id": "31baa2ba",
   "metadata": {},
   "source": [
    "movie_data의 user_id, title 컬럼 내 값들이 모두 정수 인덱스 값으로 잘 변경되었다. 이것으로 훈련을 위한 모든 전처리가 완료되었다."
   ]
  },
  {
   "cell_type": "code",
   "execution_count": 24,
   "id": "2b674469",
   "metadata": {},
   "outputs": [],
   "source": [
    "# movie_data['movie_id'] = movie_data['movie_id'].astype(int)\n",
    "# movie_data.tail()"
   ]
  },
  {
   "cell_type": "markdown",
   "id": "5ec1ea13",
   "metadata": {},
   "source": [
    "## 사용자의 명시적/암묵적 평가 (참고)"
   ]
  },
  {
   "cell_type": "markdown",
   "id": "bdad8261",
   "metadata": {},
   "source": [
    "우리의 추천 시스템은 사용자들이 아이템을 얼마나 선호하는지를 모델링 하기를 원한다. 그러자면 사용자의 아이템 선호도를 말해 주는 유저 행동 데이터셋이 필요하다. 만약 우리 데이터가 좋아요나 별점처럼 선호도를 명시적(explicit)으로 나타내는 것이라면 참 좋겠지만, 지금 우리가 가지고 있는 데이터는 사용자가 아티스트의 곡을 몇 번 플레이했나 하는 것뿐이다. 이렇게 서비스를 사용하면서 자연스럽게 발생하는 암묵적(implicit)인 피드백도 사용자의 아이템에 대한 평가를 알 수 있는 단서가 될 수 있다.\n",
    "\n",
    "[Collaborative Filtering for Implicit Feedback Datasets][1] 논문에는 추천시스템에서 암묵적 피드백 데이터셋을 활용할 때의 고민이 잘 담겨있다. 해당 논문에서는 이를 위해 염두해두어야할 암묵적 피드백 데이터셋의 특징을 다음과 같이 정리한다.\n",
    "\n",
    "[1]:http://yifanhu.net/PUB/cf.pdf\n",
    "\n",
    "● 부정적인 피드백이 없다.(No Negative Feedback)  \n",
    "● 애초에 잡음이 많다.(Inherently Noisy)  \n",
    "● 수치는 신뢰도를 의미한다.(The numerical value of implicit feedback indicates confidence)  \n",
    "● Implicit-feedback Recommender System의 평가는 적절한 방법을 고민해봐야 한다.(Evaluation of implicit-feedback recommender requires appropriate measures)\n",
    "\n",
    "우리가 앞으로 만들어갈 모델에서는 암묵적 데이터의 해석을 위해 다음과 같은 규칙을 적용한다.\n",
    "\n",
    "● 한 번이라도 들었으면 선호한다고 판단한다.  \n",
    "● 많이 재생한 아티스트에 대해 가중치를 주어서 더 확실히 좋아한다고 판단한다."
   ]
  },
  {
   "cell_type": "markdown",
   "id": "d46e45f5",
   "metadata": {},
   "source": [
    "## Matrix Factorization(MF) (참고)"
   ]
  },
  {
   "attachments": {
    "image.png": {
     "image/png": "[encoded data removed]"
    }
   },
   "cell_type": "markdown",
   "id": "2fea5d1d",
   "metadata": {},
   "source": [
    "데이터가 준비되었으니 이제 모델을 만들 차례다.\n",
    "\n",
    "아래 그림의 왼쪽에서 보는 것처럼, 우리는 m명의 사용자들이 n명의 아티스트에 대해 평가한 데이터를 포함한 (m,n) 사이즈의 평가 행렬(Rating Matrix)을 만들 것이다. 행렬 중 일부는 데이터가 채워져 있지만, 나머지 부분은 데이터가 비어 있다. 우리가 앞에서 살펴보았던 추천 시스템의 협업 필터링(Collaborative Filtering)이란 결국은 이런 평가 행렬을 전제로 하는 것이다. 만약 우리가 이 평가 행렬의 비어 있는 부분을 포함한 완벽한 정보를 얻을 수만 있다면 (모든 사용자의 모든 아이템에 대한 선호도를 다 파악한 셈이니) 그야말로 완벽한 추천이 가능해질 것이다.\n",
    "\n",
    "우리는 추천 시스템의 다양한 모델 중 Matrix Factorization(MF, 행렬 분해) 모델을 사용하겠다. MF 모델은 2006년 Netflix에서 백만 달러의 상금을 걸고 개최한 자사 추천 시스템의 성능을 10% 이상 향상시키는 챌린지를 계기로 알려지게 되었다. 기본 아이디어는 아래 그림과 같다. (m,n) 사이즈의 행렬 R을 (m,k) 사이즈의 행렬 P와 (k,n) 사이즈의 행렬 Q로 분해한다면 R이란 그저 P와 Q의 행렬곱으로 표현 가능할 수 있다는 간단한 아이디어이다. 대체로 k는 m이나 n보다 훨씬 작은 값이기 때문에 계산량 측면으로도 훨씬 유리해진다. 하지만 아이디어의 단순함에도 불구하고 MF 모델은 성능이 준수하고 Scalability가 좋아서 많이 사용되는 모델이다.\n",
    "\n",
    "![image.png](attachment:image.png)"
   ]
  },
  {
   "attachments": {
    "image.png": {
     "image/png": "[encoded data removed]"
    }
   },
   "cell_type": "markdown",
   "id": "97589d36",
   "metadata": {},
   "source": [
    "아래 그림을 다시 한번 보자. 위에 소개한 MF 모델의 개요도와 크게 다를 것은 없다. 단지, MF 모델을 사용자에게 영화를 추천하는 모델에 대입해서 그려 보았다는 정도의 차이가 있다. 위 그림 방식으로 말하자면 m=4, n=5, k=2인 MF 모델이 되겠다.\n",
    "\n",
    "위에서 MF 모델은 큰 평가 행렬 R을 두 개의 Feature Matrix P와 Q로 분해한다고 하였다.  \n",
    "무엇의 Feature일까? (m, k) 사이즈의 Feature Matrix P는 k 차원의 벡터를 사용자 수만큼 모아놓은 행렬이다. 그렇다면 아래 그림에서 첫 번째 벡터 P0=(1, 0.1)은 바로 빨간 모자를 쓴 첫 번째 사용자의 특성(Feature) 벡터가 된다.\n",
    "\n",
    "같은 방식으로 Q 행렬의 첫 번째 벡터 Q0=(0.9, -0.2)는 해리포터 영화의 특성 벡터가 된다. MF 모델은 이 두 벡터를 내적해서 얻어지는 0.88이 바로 R0,0으로 정의되는 사용자의 영화 선호도로 보는 모델이다.\n",
    "\n",
    "![image.png](attachment:image.png)"
   ]
  },
  {
   "attachments": {
    "image.png": {
     "image/png": "[encoded data removed]"
    }
   },
   "cell_type": "markdown",
   "id": "04b37df1",
   "metadata": {},
   "source": [
    "모델의 목표는 모든 유저와 아이템에 대해 k-dimension의 벡터를 잘 만드는 것이다.  \n",
    "벡터를 잘 만드는 기준은 유저 i의 벡터(Ui)와 아이템 j의 벡터(Ij)를 내적했을 때 유저 i가 아이템 j에 대해 평가한 수치(Mij)와 비슷한지 이다.\n",
    "\n",
    "![image.png](attachment:image.png)\n",
    "\n",
    "MF에도 다양한 변형이 있다. 이번에 사용할 모델은 [Collaborative Filtering for Implicit Feedback Datasets][1] 논문에서 제안한 모델을 사용할 것이다.\n",
    "\n",
    "[1]:http://yifanhu.net/PUB/cf.pdf\n",
    "\n",
    "이 모델의 경우 이전 스텝에서 우리가 'black eyed peas'를 play했다는 데이터를 추가했기 때문에 우리의 벡터와 black eyed peas의 벡터를 곱했을 때 1에 가까워야 모델이 잘 학습하는 것을 목표로 한다.\n",
    "\n",
    "오해할 수 있는데, black eyed peas를 5번 들었어도 모델이 근사하고자 하는 것이 아티스트를 선호하는지 안 하는지를 맞추는 것이기 때문에 두 벡터를 곱했을 때 5에 가까워지는 대신 1에 가까워져야 한다.\n",
    "\n",
    "이를 통해서 우리가 들어보지 못한 queen에 대해서도 우리의 벡터와 queen의 벡터를 곱하여 수치를 예상할 수 있다.\n",
    "\n",
    "만약 목표가 유저의 재생 횟수를 맞춰야 하는 것(혹은 별점을 맞추는 것)이라면 그에 맞는 다른 모델을 사용해야 한다.\n",
    "\n",
    "구조가 거의 똑같고 모델의 목표가 재생횟수를 맞춰지는 쪽으로 학습(유저와 아이템의 벡터를 만들기)하면 된다. 궁금하다면 [참고 자료][2]를 확인한다.\n",
    "\n",
    "[2]:https://towardsdatascience.com/recommendation-system-matrix-factorization-d61978660b4b"
   ]
  },
  {
   "cell_type": "markdown",
   "id": "9d65c26d",
   "metadata": {},
   "source": [
    "## CSR(Compressed Sparse Row) Matrix (참고)"
   ]
  },
  {
   "attachments": {
    "image.png": {
     "image/png": "[encoded data removed]"
    }
   },
   "cell_type": "markdown",
   "id": "dc4f9e82",
   "metadata": {},
   "source": [
    "유저 X 아이템 평가 행렬을 다시 생각해 보자. 유저는 36만 명이고 아티스트는 29만 명이다. 이를 행렬로 표현하고 행렬의 각 원소에 정수 한 개 (1byte)가 들어간다면 36만 * 29만 * 1byte ≈ 97GB가 필요하다.\n",
    "\n",
    "참고로 우리가 사용하는 컴퓨터의 메모리는 많아야 16GB일 테니 97GB나 되는 거대한 행렬을 메모리에 올려놓고 작업한다는 것은 불가능할 것이다. 이런 경우의 좋은 대안이 되는 것이 CSR(Compressed Sparse Row) Matrix이다. 다음 스텝에서 수행할 모델 학습의 input으로 사용할 데이터 타입을 CSR Matrix로 할 것이다.\n",
    "\n",
    "CSR Matrix는 Sparse한 matrix에서 0이 아닌 유효한 데이터로 채워지는 데이터의 값과 좌표 정보만으로 구성하여 메모리 사용량을 최소화하면서도 Sparse한 matrix와 동일한 행렬을 표현할 수 있도록 하는 데이터 구조이다.\n",
    "\n",
    "CSR Matrix는 data, indices, indptr 로 행렬을 압축하여 표현한다. 그 원리를 아래 행렬 예시를 통해 설명하겠다.\n",
    "\n",
    "![image.png](attachment:image.png)"
   ]
  },
  {
   "cell_type": "markdown",
   "id": "83482ed5",
   "metadata": {},
   "source": [
    "data는 0이 아닌 원소를 차례로 기입한 값이다.  \n",
    "data = [1, 2, 3, 4, 5, 6]\n",
    "\n",
    "indices는 data의 각 요소가 어느 열(column)에 있는지를 표현한 index이다.  \n",
    "indices = [0, 4, 1, 3, 0, 3]\n",
    "\n",
    "indptr은 각 행(row)에서 0이 아닌 첫 번째 원소가 data 리스트에서 의 몇 번째에 해당하는지와 마지막에 data 벡터의 길이를 추가한 값이다. 이를 통해 data의 요소들이 어느 행(row)에 있는지를 알 수 있다. 다만 예시의 세 번째 행처럼 0이 아닌 원소가 없는 경우엔 그 다음 행의 값과 같은 값을 넣었다.  \n",
    "indptr = [0, 2, 4, 4, 6]\n",
    "\n",
    "이를 통해 data[0:2]는 첫 번째 행, data[2:4]는 두 번째 행, data[4:4]는 세 번째 행, data[4:6]는 네 번째 행에 위치함을 나타낼 수 있게 된다."
   ]
  },
  {
   "attachments": {
    "image.png": {
     "image/png": "[encoded data removed]"
    }
   },
   "cell_type": "markdown",
   "id": "56c9ed3b",
   "metadata": {},
   "source": [
    "이제 우리의 data를 CSR Matrix에 맞게 바꿔보겠다.  \n",
    "DataFrame을 만드는 방식이 다양하듯 csr_matrix를 [만드는 방법][1]은 다양하게 있다.  \n",
    "현재 data와 같은 데이터 구조에 적합한 방식은 위 링크(혹은 아래 사진)에서 4번째로 설명하고 있는 방법이다.\n",
    "\n",
    "[1]:https://docs.scipy.org/doc/scipy/reference/generated/scipy.sparse.csr_matrix.html\n",
    "\n",
    "![image.png](attachment:image.png)"
   ]
  },
  {
   "cell_type": "markdown",
   "id": "fe043a0c",
   "metadata": {},
   "source": [
    "### CSR(Compressed Sparse Row) Matrix"
   ]
  },
  {
   "cell_type": "code",
   "execution_count": 25,
   "id": "ddfecb82",
   "metadata": {
    "scrolled": true
   },
   "outputs": [
    {
     "data": {
      "text/plain": [
       "<6040x3629 sparse matrix of type '<class 'numpy.int64'>'\n",
       "\twith 836483 stored elements in Compressed Sparse Row format>"
      ]
     },
     "execution_count": 25,
     "metadata": {},
     "output_type": "execute_result"
    }
   ],
   "source": [
    "# 실습 위에 설명보고 이해해서 만들어보기\n",
    "from scipy.sparse import csr_matrix\n",
    "\n",
    "num_user = movie_data['user_id'].nunique()\n",
    "num_movie = movie_data['title'].nunique()\n",
    "\n",
    "csr_data = csr_matrix((movie_data.counts, (movie_data.user_id, movie_data.title)), shape= (num_user, num_movie))\n",
    "csr_data"
   ]
  },
  {
   "cell_type": "markdown",
   "id": "765ed948",
   "metadata": {},
   "source": [
    "우리의 data를 CSR Matrix에 맞게 바꾸었다."
   ]
  },
  {
   "cell_type": "markdown",
   "id": "d7dbd3ad",
   "metadata": {},
   "source": [
    "### Matrix Factorization(MF)"
   ]
  },
  {
   "cell_type": "markdown",
   "id": "70172e91",
   "metadata": {},
   "source": [
    "앞서 전처리를 완료했으니 MF model을 구성하여 내가 좋아할 만한 영화를 추천해 볼 수 있다."
   ]
  },
  {
   "cell_type": "markdown",
   "id": "2b0bdfe8",
   "metadata": {},
   "source": [
    "위에서 설명한 Matrix Factorization 모델을 [implicit][1] 패키지를 사용하여 학습해 보자.\n",
    "\n",
    "[1]:https://github.com/benfred/implicit\n",
    "\n",
    "● implicit 패키지는 이전 스텝에서 설명한 암묵적(implicit) dataset을 사용하는 다양한 모델을 굉장히 빠르게 학습할 수 있는 패키지이다.  \n",
    "● 이 패키지에 구현된 als(AlternatingLeastSquares) 모델을 사용하겠다. Matrix Factorization에서 쪼개진 두 Feature Matrix를 한꺼번에 훈련하는 것은 잘 수렴하지 않기 때문에, 한쪽을 고정시키고 다른 쪽을 학습하는 방식을 번갈아 수행하는 AlternatingLeastSquares 방식이 효과적인 것으로 알려져 있다."
   ]
  },
  {
   "cell_type": "code",
   "execution_count": 26,
   "id": "fbee8dbd",
   "metadata": {},
   "outputs": [],
   "source": [
    "from implicit.als import AlternatingLeastSquares\n",
    "import os\n",
    "import numpy as np\n",
    "\n",
    "# implicit 라이브러리에서 권장하고 있는 부분입니다. 학습 내용과는 무관합니다.\n",
    "os.environ['OPENBLAS_NUM_THREADS']='1'\n",
    "os.environ['KMP_DUPLICATE_LIB_OK']='True'\n",
    "os.environ['MKL_NUM_THREADS']='1'"
   ]
  },
  {
   "cell_type": "markdown",
   "id": "1e388e6f",
   "metadata": {},
   "source": [
    "AlternatingLeastSquares 클래스의 __init__ 파라미터를 살펴보겠다.\n",
    "\n",
    "● factors : 유저와 아이템의 벡터를 몇 차원으로 할 것인지  \n",
    "● regularization : 과적합을 방지하기 위해 정규화 값을 얼마나 사용할 것인지  \n",
    "● use_gpu : GPU를 사용할 것인지  \n",
    "● iterations : epochs와 같은 의미입니다. 데이터를 몇 번 반복해서 학습할 것인지\n",
    "\n",
    "1과 4를 늘릴수록 학습 데이터를 잘 학습하게 되지만 과적합의 우려가 있으니 좋은 값을 찾아야 한다."
   ]
  },
  {
   "cell_type": "code",
   "execution_count": 27,
   "id": "7120f57d",
   "metadata": {},
   "outputs": [],
   "source": [
    "# Implicit AlternatingLeastSquares 모델의 선언\n",
    "als_model = AlternatingLeastSquares(factors=100, regularization=0.01, use_gpu=False, iterations=15, dtype=np.float32)"
   ]
  },
  {
   "cell_type": "code",
   "execution_count": 28,
   "id": "d1794189",
   "metadata": {},
   "outputs": [
    {
     "data": {
      "text/plain": [
       "<3629x6040 sparse matrix of type '<class 'numpy.int64'>'\n",
       "\twith 836483 stored elements in Compressed Sparse Column format>"
      ]
     },
     "execution_count": 28,
     "metadata": {},
     "output_type": "execute_result"
    }
   ],
   "source": [
    "# als 모델은 input으로 (item X user 꼴의 matrix를 받기 때문에 Transpose해줍니다.)\n",
    "csr_data_transpose = csr_data.T\n",
    "csr_data_transpose"
   ]
  },
  {
   "cell_type": "code",
   "execution_count": 29,
   "id": "2781b47a",
   "metadata": {},
   "outputs": [
    {
     "data": {
      "application/vnd.jupyter.widget-view+json": {
       "model_id": "1be2d86480b64ab48ec5252895dec36b",
       "version_major": 2,
       "version_minor": 0
      },
      "text/plain": [
       "  0%|          | 0/15 [00:00<?, ?it/s]"
      ]
     },
     "metadata": {},
     "output_type": "display_data"
    }
   ],
   "source": [
    "# 모델 훈련\n",
    "als_model.fit(csr_data_transpose)"
   ]
  },
  {
   "cell_type": "markdown",
   "id": "16a47d51",
   "metadata": {},
   "source": [
    "모델 학습이 끝났다! 이제 2가지를 아래 사항을 살펴보자.\n",
    "\n",
    "● yong 벡터와 jurassic park의 벡터를 어떻게 만들고 있는지  \n",
    "● 두 벡터를 곱하면 어떤 값이 나오는지"
   ]
  },
  {
   "cell_type": "code",
   "execution_count": 30,
   "id": "b7dd6812",
   "metadata": {},
   "outputs": [
    {
     "name": "stdout",
     "output_type": "stream",
     "text": [
      "완료\n"
     ]
    }
   ],
   "source": [
    "yong, jurassic_park, Men_in_Black = user_to_idx['yong'], movie_to_idx['jurassic park (1993)'], movie_to_idx['Men in Black (1997)']\n",
    "yong_vector, jurassic_park_vector, Men_in_Black_vector  = als_model.user_factors[yong], als_model.item_factors[jurassic_park], als_model.item_factors[Men_in_Black]\n",
    "\n",
    "print('완료')"
   ]
  },
  {
   "cell_type": "code",
   "execution_count": 31,
   "id": "29b0ef96",
   "metadata": {},
   "outputs": [
    {
     "data": {
      "text/plain": [
       "array([ 2.10761175e-01, -3.10273975e-01, -1.02078110e-01,  5.53751349e-01,\n",
       "       -4.54996258e-01,  3.95515203e-01, -2.92676419e-01,  7.44896084e-02,\n",
       "       -7.30422258e-01, -3.10136110e-01,  3.83829087e-01,  8.25001895e-01,\n",
       "       -1.09455392e-01,  4.69973803e-01, -3.13322812e-01,  7.50321001e-02,\n",
       "        2.09690630e-01,  4.87119049e-01,  8.49209428e-01,  8.56518149e-02,\n",
       "       -2.22530290e-01,  3.01055908e-01,  4.82458025e-01, -3.30561757e-01,\n",
       "        3.28167468e-01, -1.20995641e-01,  1.54303253e-01,  5.06028056e-01,\n",
       "       -4.89480700e-03,  2.57611424e-01, -1.75554916e-01, -6.33517981e-01,\n",
       "        1.03505805e-01, -7.01817632e-01, -2.47462958e-01, -1.03681453e-01,\n",
       "        6.17447615e-01, -2.49796137e-01,  5.23941889e-02,  3.51634383e-01,\n",
       "        4.95382488e-01, -4.00692016e-01,  5.28884649e-01,  6.77599430e-01,\n",
       "        9.84786868e-01,  5.74595213e-01, -5.44587553e-01, -3.28871638e-01,\n",
       "        1.69004068e-01,  5.12358248e-01, -6.44999221e-02,  5.84151268e-01,\n",
       "        6.19599938e-01,  2.11995304e-01,  7.47330412e-02,  3.53493005e-01,\n",
       "        3.71807009e-01,  3.55468541e-01, -8.33497167e-01, -6.76617622e-01,\n",
       "       -5.11144519e-01,  3.29248786e-01,  5.58773458e-01, -7.03118622e-01,\n",
       "       -1.68338612e-01,  1.48975596e-01, -6.19473040e-01, -8.12420905e-01,\n",
       "        3.72867614e-01, -1.95510257e-02, -5.57827413e-01, -2.84423888e-01,\n",
       "       -3.33096266e-01,  1.83280021e-01, -1.44964397e+00, -5.99296510e-01,\n",
       "       -2.92484999e-01,  3.21017504e-01, -1.13467016e-04, -2.32320711e-01,\n",
       "       -1.29181612e+00, -7.18813837e-02,  5.15745342e-01, -1.48168087e-01,\n",
       "        1.26073629e-01, -3.51020157e-01, -6.72098875e-01,  3.80137302e-02,\n",
       "        7.00096309e-01, -8.86477232e-01, -9.28114772e-01,  7.96945095e-02,\n",
       "        2.29313552e-01, -2.06383213e-01,  7.17008591e-01, -1.07861068e-02,\n",
       "        6.94084346e-01,  7.67934501e-01,  3.62796895e-02,  5.70756733e-01],\n",
       "      dtype=float32)"
      ]
     },
     "execution_count": 31,
     "metadata": {},
     "output_type": "execute_result"
    }
   ],
   "source": [
    "yong_vector"
   ]
  },
  {
   "cell_type": "code",
   "execution_count": 32,
   "id": "3bf92b34",
   "metadata": {},
   "outputs": [
    {
     "data": {
      "text/plain": [
       "array([-0.00196642, -0.01981026, -0.02826689,  0.0120895 , -0.0111254 ,\n",
       "        0.01908922, -0.00976465,  0.01501338, -0.01603306, -0.006267  ,\n",
       "        0.02962937,  0.03328777,  0.0270777 ,  0.01869612,  0.0127356 ,\n",
       "       -0.01377169,  0.02185979,  0.01746538,  0.02569927,  0.01232588,\n",
       "       -0.01257848,  0.0149717 ,  0.0145448 , -0.00152029,  0.02661886,\n",
       "        0.00150493,  0.01035262,  0.02438616,  0.01451439,  0.01203169,\n",
       "        0.02298082,  0.00647165, -0.00515666,  0.006612  ,  0.00883856,\n",
       "        0.02026479,  0.01216768,  0.00889662,  0.01082273, -0.00477683,\n",
       "        0.0047215 ,  0.02548468,  0.03167257,  0.00952097,  0.04079195,\n",
       "       -0.00409221, -0.02043474,  0.00787783,  0.02531181,  0.03631447,\n",
       "        0.0062588 ,  0.02672758,  0.00714682,  0.02610978, -0.00578949,\n",
       "       -0.00133944,  0.03552704, -0.00177706, -0.01008999, -0.01550899,\n",
       "       -0.02242859,  0.03290436,  0.00090361, -0.01242844, -0.03615416,\n",
       "       -0.01280798, -0.00265869, -0.01191195,  0.03853044, -0.01785881,\n",
       "       -0.00695914,  0.0235703 ,  0.02296444,  0.00088277, -0.04594786,\n",
       "       -0.02415995, -0.03028592,  0.01465048,  0.01176872,  0.00077618,\n",
       "       -0.02805563,  0.01157585,  0.02340437, -0.00366706,  0.01567986,\n",
       "       -0.0099598 , -0.03865502, -0.00844135,  0.02277862, -0.02729932,\n",
       "       -0.03208208,  0.01045155, -0.00859228, -0.0078179 ,  0.03410233,\n",
       "        0.02231785,  0.02790744,  0.00756279,  0.00537964,  0.04175473],\n",
       "      dtype=float32)"
      ]
     },
     "execution_count": 32,
     "metadata": {},
     "output_type": "execute_result"
    }
   ],
   "source": [
    "jurassic_park_vector"
   ]
  },
  {
   "cell_type": "code",
   "execution_count": 33,
   "id": "745acf55",
   "metadata": {},
   "outputs": [
    {
     "data": {
      "text/plain": [
       "array([ 3.4928328e-04,  6.4470875e-04,  9.8733159e-05,  1.1049174e-04,\n",
       "        2.4971465e-04,  8.1326824e-04,  5.7478808e-04,  5.4314861e-04,\n",
       "        4.2318741e-05, -1.0399413e-04,  8.7245251e-04,  7.2053517e-04,\n",
       "        5.0531479e-04,  9.9023455e-04,  8.4786408e-04,  5.7610823e-04,\n",
       "        2.9466022e-04,  4.2516016e-04,  4.5007042e-04, -2.0899097e-05,\n",
       "        6.5490935e-04,  8.8346913e-04,  8.9053203e-05,  4.3396460e-04,\n",
       "        6.8277033e-04,  9.8326767e-04,  7.0860155e-04, -4.8681824e-05,\n",
       "        2.4437136e-04,  2.2608225e-04,  2.6816702e-05,  2.2765555e-04,\n",
       "        2.9147690e-04,  1.9960142e-04,  1.2258171e-03, -1.1807691e-04,\n",
       "        1.2606595e-03,  3.2670263e-04,  4.8272719e-04,  5.2176253e-04,\n",
       "        2.9042942e-04,  2.3464372e-04,  6.4074376e-04,  7.5939001e-04,\n",
       "        8.4745587e-04,  9.2772016e-04,  2.9982682e-04,  1.3698218e-04,\n",
       "        4.5378043e-04,  6.9769105e-04,  5.8762124e-04,  4.4781383e-04,\n",
       "        4.8917299e-04,  8.8343065e-04,  5.2588753e-04,  2.8336345e-04,\n",
       "        8.0437970e-04,  3.3450188e-04,  4.2058434e-04,  1.9813811e-04,\n",
       "       -5.0660904e-04,  1.3031707e-03,  5.1295664e-04,  4.3351323e-04,\n",
       "        2.1189058e-04,  9.3733991e-04,  4.0058431e-04, -2.8627322e-04,\n",
       "        9.4930775e-04,  7.2391011e-04, -1.0053059e-04,  5.8215734e-05,\n",
       "        4.5244327e-05,  1.6968057e-04, -2.3399172e-05, -8.5917774e-05,\n",
       "        9.1635255e-04,  3.8799696e-04,  2.1285338e-04,  4.6477429e-04,\n",
       "       -4.0537171e-04, -3.7842899e-05,  2.9086546e-04,  6.6529616e-04,\n",
       "        5.7944807e-04,  3.2942800e-04,  2.1338339e-04,  2.1661429e-04,\n",
       "        6.7337666e-04,  5.8413472e-04, -7.7279736e-05,  6.4146280e-04,\n",
       "        2.1654350e-04,  2.4922661e-04,  2.3401427e-04,  4.4327945e-04,\n",
       "        4.3024457e-04,  4.0136182e-04,  9.2269242e-05,  9.4531570e-04],\n",
       "      dtype=float32)"
      ]
     },
     "execution_count": 33,
     "metadata": {},
     "output_type": "execute_result"
    }
   ],
   "source": [
    "Men_in_Black_vector"
   ]
  },
  {
   "cell_type": "code",
   "execution_count": 34,
   "id": "0ed04a60",
   "metadata": {},
   "outputs": [
    {
     "data": {
      "text/plain": [
       "0.65729535"
      ]
     },
     "execution_count": 34,
     "metadata": {},
     "output_type": "execute_result"
    }
   ],
   "source": [
    "# yong과 jurassic_park를 내적하는 코드\n",
    "np.dot(yong_vector, jurassic_park_vector)"
   ]
  },
  {
   "cell_type": "markdown",
   "id": "017ac715",
   "metadata": {},
   "source": [
    "1이 나오면 좋겠지만 조금 낮은 수치인 0.65 정도가 나왔다. 물론 아주 나쁘지는 않다. factors를 늘리거나 iterations를 늘리면 될 것이다. 이후 진행되는 내용은 일단 이렇게 학습된 모델을 사용하겠다."
   ]
  },
  {
   "cell_type": "code",
   "execution_count": 35,
   "id": "a2afdc90",
   "metadata": {},
   "outputs": [
    {
     "data": {
      "text/plain": [
       "0.008453409"
      ]
     },
     "execution_count": 35,
     "metadata": {},
     "output_type": "execute_result"
    }
   ],
   "source": [
    "# yong과 Men_in_Black을 내적하는 코드\n",
    "np.dot(yong_vector, Men_in_Black_vector)"
   ]
  },
  {
   "cell_type": "markdown",
   "id": "5b36437a",
   "metadata": {},
   "source": [
    "1이 나오면 좋겠지만 매우 낮은 수치인 0.008 정도가 나왔다."
   ]
  },
  {
   "cell_type": "markdown",
   "id": "4c7afa30",
   "metadata": {},
   "source": [
    "(참고)  \n",
    "Q : 만약 이 두 수치를 늘려 1에 가깝게 나왔다면 이 모델이 잘 학습되었다고 볼 수 있을까?\n",
    "\n",
    "A : 정답은 아직 검증되지 않았다고 볼 수 있다. 학습 데이터에 대해서 fitting은 되었지만 아직 보지 못한 데이터에 대한, 예를 들어 내가 다른 영화를 선호할지에 대한 예측을 잘할지 못할지는 검증하지 않았기 때문이다."
   ]
  },
  {
   "cell_type": "markdown",
   "id": "9e6f4267",
   "metadata": {},
   "source": [
    "그렇다면 모델이 나의 terminator에 대한 선호도를 어떻게 예측할지 한 번 보겠다."
   ]
  },
  {
   "cell_type": "code",
   "execution_count": 36,
   "id": "896e2e1e",
   "metadata": {},
   "outputs": [
    {
     "data": {
      "text/plain": [
       "0.5196904"
      ]
     },
     "execution_count": 36,
     "metadata": {},
     "output_type": "execute_result"
    }
   ],
   "source": [
    "terminator = movie_to_idx['terminator, the (1984)']\n",
    "terminator_vector = als_model.item_factors[terminator]\n",
    "np.dot(yong_vector, terminator_vector)"
   ]
  },
  {
   "cell_type": "markdown",
   "id": "d5f6948e",
   "metadata": {},
   "source": [
    "0.51이 나왔다."
   ]
  },
  {
   "cell_type": "markdown",
   "id": "d5826dab",
   "metadata": {},
   "source": [
    "(참고)  \n",
    "Q : terminator에 대한 선호도를 예측한 결과를 어떻게 해석하면 좋을까? 사용자와 영화 벡터 내적이 0.5를 기준으로 그보다 높으면 모델이 선호한다고 판단했다고 말할 수 있을까?\n",
    "\n",
    "A : 모델을 만드는 사람이 정하기 나름이다. 객관적인 지표로 만들어서 기준을 정할 수도 있고 도메인 경험을 통해 정할 수도 있다.  \n",
    "추천 시스템은 다른 머신러닝 task보다 객관적인 평가가 어려운 분야이다. 사람을 도통 알 수 없기 때문에 객관적인 지표를 정하기 어렵기 때문이다.\n",
    "\n",
    "물론 나는 terminator 영화가 마음에 든다!"
   ]
  },
  {
   "cell_type": "code",
   "execution_count": 37,
   "id": "d95a2bd8",
   "metadata": {},
   "outputs": [
    {
     "data": {
      "text/plain": [
       "0.0025046188"
      ]
     },
     "execution_count": 37,
     "metadata": {},
     "output_type": "execute_result"
    }
   ],
   "source": [
    "one_little_indian = movie_to_idx['one little indian (1973)']\n",
    "one_little_indian_vector = als_model.item_factors[one_little_indian]\n",
    "np.dot(yong_vector, one_little_indian_vector)"
   ]
  },
  {
   "cell_type": "markdown",
   "id": "87c9a58f",
   "metadata": {},
   "source": [
    "0.002이 나왔다. 내가 좋아하지 않는 장르라고 판단하여 추천을 하지 않은 것으로 판단된다."
   ]
  },
  {
   "cell_type": "markdown",
   "id": "e892537b",
   "metadata": {},
   "source": [
    "### 비슷한 영화 찾기 + 유저에게 추천하기"
   ]
  },
  {
   "cell_type": "markdown",
   "id": "796d1188",
   "metadata": {},
   "source": [
    "#### 비슷한 영화 찾기  \n",
    "AlternatingLeastSquares 클래스에 구현되어 있는 similar_items 메서드를 통하여 비슷한 영화를 찾는다. 처음으로는 내가 좋아하는 terminator 2: judgment day로 찾아보겠다."
   ]
  },
  {
   "cell_type": "code",
   "execution_count": 38,
   "id": "4081217b",
   "metadata": {},
   "outputs": [
    {
     "data": {
      "text/plain": [
       "[(92, 1.0),\n",
       " (124, 0.7660348),\n",
       " (107, 0.70701474),\n",
       " (62, 0.69337755),\n",
       " (175, 0.6225822),\n",
       " (200, 0.6031195),\n",
       " (141, 0.5188543),\n",
       " (3628, 0.49323186),\n",
       " (87, 0.48002326),\n",
       " (75, 0.445195),\n",
       " (375, 0.40907916),\n",
       " (3466, 0.40887123),\n",
       " (651, 0.39853826),\n",
       " (193, 0.38569567),\n",
       " (44, 0.37588364)]"
      ]
     },
     "execution_count": 38,
     "metadata": {},
     "output_type": "execute_result"
    }
   ],
   "source": [
    "favorite_movie = 'terminator 2: judgment day (1991)'\n",
    "movie_id = movie_to_idx[favorite_movie]\n",
    "similar_movie = als_model.similar_items(movie_id, N=15)\n",
    "similar_movie"
   ]
  },
  {
   "cell_type": "markdown",
   "id": "6b9e8d2c",
   "metadata": {},
   "source": [
    "(영화의 id, 유사도) Tuple 로 반환하고 있다. 영화의 id를 다시 영화의 이름으로 매핑시켜 주겠다."
   ]
  },
  {
   "cell_type": "code",
   "execution_count": 39,
   "id": "26e6f26b",
   "metadata": {},
   "outputs": [
    {
     "data": {
      "text/plain": [
       "['terminator 2: judgment day (1991)',\n",
       " 'matrix, the (1999)',\n",
       " 'jurassic park (1993)',\n",
       " 'total recall (1990)',\n",
       " 'men in black (1997)',\n",
       " 'terminator, the (1984)',\n",
       " 'fugitive, the (1993)',\n",
       " 'Men in Black (1997)',\n",
       " 'braveheart (1995)',\n",
       " 'hunt for red october, the (1990)',\n",
       " 'face/off (1997)',\n",
       " 'schlafes bruder (brother of sleep) (1995)',\n",
       " 'aliens (1986)',\n",
       " 'alien (1979)',\n",
       " 'star wars: episode iv - a new hope (1977)']"
      ]
     },
     "execution_count": 39,
     "metadata": {},
     "output_type": "execute_result"
    }
   ],
   "source": [
    "# movie_to_idx 를 뒤집어, index로부터 moive 이름을 얻는 dict를 생성합니다. \n",
    "idx_to_movie = {v:k for k,v in movie_to_idx.items()}\n",
    "[idx_to_movie[i[0]] for i in similar_movie]"
   ]
  },
  {
   "cell_type": "markdown",
   "id": "2269f981",
   "metadata": {},
   "source": [
    "몇 번 더 반복해서 확인하기 위해 위의 코드를 함수로 만들고 확인해 보겠다."
   ]
  },
  {
   "cell_type": "code",
   "execution_count": 40,
   "id": "8a141442",
   "metadata": {},
   "outputs": [
    {
     "name": "stdout",
     "output_type": "stream",
     "text": [
      "완료\n"
     ]
    }
   ],
   "source": [
    "def get_similar_movie(movie_name: str):\n",
    "    movie_id = movie_to_idx[movie_name]\n",
    "    similar_movie = als_model.similar_items(movie_id , N=15)\n",
    "    similar_movie = [idx_to_movie[i[0]] for i in similar_movie]\n",
    "    return similar_movie\n",
    "\n",
    "print(\"완료\")"
   ]
  },
  {
   "cell_type": "markdown",
   "id": "89c020de",
   "metadata": {},
   "source": [
    "matrix으로도 확인해 보겠다."
   ]
  },
  {
   "cell_type": "code",
   "execution_count": 41,
   "id": "0f4b32e3",
   "metadata": {},
   "outputs": [
    {
     "data": {
      "text/plain": [
       "['matrix, the (1999)',\n",
       " 'terminator 2: judgment day (1991)',\n",
       " 'total recall (1990)',\n",
       " 'fugitive, the (1993)',\n",
       " 'terminator, the (1984)',\n",
       " 'fifth element, the (1997)',\n",
       " 'jurassic park (1993)',\n",
       " 'face/off (1997)',\n",
       " 'men in black (1997)',\n",
       " 'hunt for red october, the (1990)',\n",
       " 'Men in Black (1997)',\n",
       " 'twelve monkeys (1995)',\n",
       " 'star wars: episode iv - a new hope (1977)',\n",
       " 'alien (1979)',\n",
       " 'star wars: episode v - the empire strikes back (1980)']"
      ]
     },
     "execution_count": 41,
     "metadata": {},
     "output_type": "execute_result"
    }
   ],
   "source": [
    "get_similar_movie('matrix, the (1999)')"
   ]
  },
  {
   "cell_type": "markdown",
   "id": "2377f8f8",
   "metadata": {},
   "source": [
    "내가 좋아하는 영화와 비슷한 영화를 잘 추천해주는 것을 확인할 수 있다."
   ]
  },
  {
   "cell_type": "markdown",
   "id": "e88fc6b8",
   "metadata": {},
   "source": [
    "#### 유저에게 영화 추천하기"
   ]
  },
  {
   "cell_type": "markdown",
   "id": "5de69a45",
   "metadata": {},
   "source": [
    "AlternatingLeastSquares 클래스에 구현되어 있는 recommend 메서드를 통하여 내가 좋아할 만한 영화를 추천받는다. filter_already_liked_items는 유저가 이미 평가한 아이템은 제외하는 Argument이다."
   ]
  },
  {
   "cell_type": "code",
   "execution_count": 42,
   "id": "ef58595b",
   "metadata": {},
   "outputs": [
    {
     "data": {
      "text/plain": [
       "[(175, 0.51707363),\n",
       " (62, 0.5133062),\n",
       " (141, 0.34968886),\n",
       " (193, 0.3049228),\n",
       " (44, 0.30117106),\n",
       " (651, 0.29592788),\n",
       " (87, 0.28654873),\n",
       " (375, 0.26968375),\n",
       " (145, 0.26040593),\n",
       " (75, 0.24949555),\n",
       " (117, 0.24221629),\n",
       " (194, 0.22985257),\n",
       " (317, 0.21453395),\n",
       " (82, 0.21437928),\n",
       " (38, 0.21031767),\n",
       " (150, 0.20685989),\n",
       " (685, 0.20385107),\n",
       " (372, 0.20198196),\n",
       " (22, 0.20160922),\n",
       " (865, 0.20088452)]"
      ]
     },
     "execution_count": 42,
     "metadata": {},
     "output_type": "execute_result"
    }
   ],
   "source": [
    "user = user_to_idx['yong']\n",
    "# recommend에서는 user*item CSR Matrix를 받습니다.\n",
    "movie_recommended = als_model.recommend(user, csr_data, N=20, filter_already_liked_items=True)\n",
    "movie_recommended"
   ]
  },
  {
   "cell_type": "code",
   "execution_count": 43,
   "id": "7ac75f46",
   "metadata": {},
   "outputs": [
    {
     "data": {
      "text/plain": [
       "['men in black (1997)',\n",
       " 'total recall (1990)',\n",
       " 'fugitive, the (1993)',\n",
       " 'alien (1979)',\n",
       " 'star wars: episode iv - a new hope (1977)',\n",
       " 'aliens (1986)',\n",
       " 'braveheart (1995)',\n",
       " 'face/off (1997)',\n",
       " 'fifth element, the (1997)',\n",
       " 'hunt for red october, the (1990)',\n",
       " 'star wars: episode v - the empire strikes back (1980)',\n",
       " 'die hard (1988)',\n",
       " 'twelve monkeys (1995)',\n",
       " 'lost world: jurassic park, the (1997)',\n",
       " 'sixth sense, the (1999)',\n",
       " 'independence day (id4) (1996)',\n",
       " 'planet of the apes (1968)',\n",
       " 'x-men (2000)',\n",
       " 'back to the future (1985)',\n",
       " 'predator (1987)']"
      ]
     },
     "execution_count": 43,
     "metadata": {},
     "output_type": "execute_result"
    }
   ],
   "source": [
    "[idx_to_movie[i[0]] for i in movie_recommended]"
   ]
  },
  {
   "cell_type": "markdown",
   "id": "5ced8caa",
   "metadata": {},
   "source": [
    "aliens를 추천해 주었다. 모델은 왜 aliens를 추천해 주었을까? AlternatingLeastSquares 클래스에 구현된 explain 메서드를 사용하면 본인이 기록을 남긴 데이터 중 이 추천에 기여한 정도를 확인할 수 있다."
   ]
  },
  {
   "cell_type": "code",
   "execution_count": 44,
   "id": "e491bb42",
   "metadata": {},
   "outputs": [],
   "source": [
    "aliens = movie_to_idx['aliens (1986)']\n",
    "explain = als_model.explain(user, csr_data, itemid = aliens)"
   ]
  },
  {
   "cell_type": "markdown",
   "id": "a4928f15",
   "metadata": {},
   "source": [
    "이 method는 추천한 콘텐츠의 점수에 기여한 다른 콘텐츠와 기여도(합이 콘텐츠의 점수가 됩니다.)를 반환한다. 어떤 영화들이 이 추천에 얼마나 기여하고 있는 걸까?"
   ]
  },
  {
   "cell_type": "code",
   "execution_count": 45,
   "id": "43989d95",
   "metadata": {},
   "outputs": [
    {
     "data": {
      "text/plain": [
       "[('terminator, the (1984)', 0.2380337438430891),\n",
       " ('terminator 2: judgment day (1991)', 0.08291883806509767),\n",
       " ('matrix, the (1999)', 0.05173586947388037),\n",
       " ('Men in Black (1997)', 0.00010653582017088144),\n",
       " ('jurassic park (1993)', -0.08033082420855017)]"
      ]
     },
     "execution_count": 45,
     "metadata": {},
     "output_type": "execute_result"
    }
   ],
   "source": [
    "[(idx_to_movie[i[0]], i[1]) for i in explain[1]]"
   ]
  },
  {
   "cell_type": "markdown",
   "id": "a24c12f3",
   "metadata": {},
   "source": [
    "terminator와 terminator 2가 가장 기여가 많은 것을 확인할 수 있다. sf물을 좋아하니 sf물을 추천해준 것으로 판단된다.\n",
    "\n",
    "모델이 추천한 20개 중 몇 개를 실제로 선호하는지 계산하여 모델의 객관적인 지표를 만들 수 있을 것 같다. 자세한 방법은 [이쪽][1]을 참고한다.\n",
    "\n",
    "[1]:https://danthetech.netlify.app/DataScience/evaluation-metrics-for-recommendation-system"
   ]
  },
  {
   "cell_type": "code",
   "execution_count": 46,
   "id": "acd83a5d",
   "metadata": {},
   "outputs": [],
   "source": [
    "aladdin = movie_to_idx['aladdin (1992)']\n",
    "explain = als_model.explain(user, csr_data, itemid=aladdin)"
   ]
  },
  {
   "cell_type": "code",
   "execution_count": 47,
   "id": "abf83556",
   "metadata": {},
   "outputs": [
    {
     "data": {
      "text/plain": [
       "[('terminator, the (1984)', 0.005604318189425996),\n",
       " ('terminator 2: judgment day (1991)', 0.00012643303722217956),\n",
       " ('Men in Black (1997)', -0.0003237027543692311),\n",
       " ('jurassic park (1993)', -0.0015460287938021447),\n",
       " ('matrix, the (1999)', -0.006552710115744632)]"
      ]
     },
     "execution_count": 47,
     "metadata": {},
     "output_type": "execute_result"
    }
   ],
   "source": [
    "[(idx_to_movie[i[0]], i[1]) for i in explain[1]]"
   ]
  },
  {
   "cell_type": "code",
   "execution_count": 48,
   "id": "3ca112b8",
   "metadata": {},
   "outputs": [],
   "source": [
    "# men in black = movie_to_idx['men in black (1997)']\n",
    "# explain = als_model.explain(user, csr_data, itemid = men in black)"
   ]
  },
  {
   "cell_type": "code",
   "execution_count": 49,
   "id": "3a3160fb",
   "metadata": {},
   "outputs": [],
   "source": [
    "# [(idx_to_movie[i[0]], i[1]) for i in explain[1]]"
   ]
  },
  {
   "attachments": {
    "image.png": {
     "image/png": "[encoded data removed]"
    }
   },
   "cell_type": "markdown",
   "id": "ba5ba2dc",
   "metadata": {},
   "source": [
    "## EXPLORATION 14 회고\n",
    "\n",
    "나를 코딩에 뛰어들게 한 것이 추천시스템에 대한 매력때문이었다. 추천시스템을 내 손으로 만들어 봐서 즐거웠다. 예상치 못한 변수때문에 시간을 많이 투자했지만 재미가 있어서 프로젝트를 잘 마무리했다고 생각한다.\n",
    "\n",
    "●이번 프로젝트에서 어려웠던 점  \n",
    "이론이 크게 어려운 편은 아니었으나 머릿속에 다 들어온 것도 아니다. 즉, 다시 봐야 된다. 코드들도 많이 익숙해졌지만, 조금만 복잡해져도 외우기가 힘들다. 그럼에도 불구하고 나아지고 있다는 것에 감사한다.\n",
    "\n",
    "※ Matrix Factorization(MF), CSR(Compressed Sparse Row) Matrix 개념을 잘 알아두자.\n",
    "\n",
    "●프로젝트를 진행하면서 알아낸 점 혹은 아직 모호한 점  \n",
    "생각지 못하게 이틀 정도 시간을 쓰게 한 부분이 있다. \"비슷한 영화 찾기 + 유저에게 추천하기\" 부분에서 에러가 나 어디서 잘못된 것인지 한참을 찾았다. 나중에 알고보니 ratings, movies 데이터를 합쳐서 사용하고 있었는데 ratings 데이터를 이용하여 진행을 하려고 하니 에러가 난 것이었다. ratings 데이터 안에는 movies 데이터가 없기 때문에 당연히 에러가 날 수 밖에 없었다. 코드가 워낙 많다 보니 시간을 굉장히 많이 쓴 것으로 기억에 남는다.\n",
    "\n",
    "lms상에서 복사해온 코드가 쥬피터 노트북에서 에러가 나 두 시간 정도 시간을 썼다. 마지막 부분(유저에게 영화 추천하기)에서 에러가 나 굉장히 당황스러웠다. 틀린 부분이 없기 때문에 마지막까지 구동이 잘된 것이기 때문이다. 모델이 men in black을 추천해 주어 이 영화를 추천하는데 기여한 영화가 무엇인지 보려고 한 것이었는데 이 코드가 틀린 점이 없음에도 불구하고 구동이 되지 않았다. 그렇게 의미없는 시간을 보내다가 최근 같은 lms상 코드를 가져왔어도 복사가 잘 안됐다는 이야기를 들은 적이 있어 혹시나 하는 마음으로 다른 사람의 코드를 가져와서 써보았다. 신기하게도 잘 구동됐다. 아래 사진 마지막 코드가 구동이 되지 않는 코드이다. aliens와 aladdin은 다른 사람의 코드를 가져온 것인데 잘되는 것을 확인할 수 있다. 최근 다른 사람의 에러를 보지 못했다면 하루를 바쳐도 못 찾아내는 에러로 남았을 것이다. 경험이 큰 자산임을 깨닫는다.\n",
    "\n",
    "![image.png](attachment:image.png)\n",
    "\n",
    "●루브릭 평가 지표를 맞추기 위해 시도한 것들  \n",
    "순서에 맞게 차례차례 진행하였다. 에러가 난 부분을 제외하고는 큰 어려움은 없었다.\n",
    "\n",
    "●자기 다짐  \n",
    "점점 어려워지고 있지만 여기까지 온 것에 대해 감사한다. 이제 exploration이 얼마 안남았다. 익숙해도 어려움의 연속일 것으로 생각되기 때문에 긴장을 늦추면 안될 것 같다. 마지막까지 최선을 다하자."
   ]
  }
 ],
 "metadata": {
  "kernelspec": {
   "display_name": "Python 3 (ipykernel)",
   "language": "python",
   "name": "python3"
  },
  "language_info": {
   "codemirror_mode": {
    "name": "ipython",
    "version": 3
   },
   "file_extension": ".py",
   "mimetype": "text/x-python",
   "name": "python",
   "nbconvert_exporter": "python",
   "pygments_lexer": "ipython3",
   "version": "3.9.7"
  }
 },
 "nbformat": 4,
 "nbformat_minor": 5
}
